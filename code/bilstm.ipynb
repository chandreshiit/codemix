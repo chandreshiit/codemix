{
 "cells": [
  {
   "cell_type": "code",
   "execution_count": 1,
   "id": "b2d13668",
   "metadata": {},
   "outputs": [],
   "source": [
    "from numpy import array\n",
    "from tensorflow.python.keras.models import Model\n",
    "from tensorflow.python.keras.layers import Input, Concatenate, TimeDistributed\n",
    "from tensorflow.python.keras.utils.vis_utils import plot_model\n",
    "from tensorflow.python.keras.preprocessing.text import Tokenizer\n",
    "from tensorflow.python.keras.preprocessing.sequence import pad_sequences\n",
    "from tensorflow.python.keras.models import Sequential\n",
    "from tensorflow.python.keras.layers import Dense , LSTM, GRU, CuDNNLSTM,Bidirectional\n",
    "from tensorflow.python.keras.layers import Flatten, Dropout, Lambda\n",
    "from tensorflow.python.keras.layers.embeddings import Embedding\n",
    "from tensorflow.python.keras import backend as K, losses\n",
    "from tensorflow.python.keras.callbacks import EarlyStopping, ModelCheckpoint, TensorBoard\n",
    "from sklearn.model_selection import train_test_split\n",
    "import tensorflow as tf\n",
    "import numpy as np, pandas as pd\n",
    "import os, re, csv, math, codecs\n",
    "from tqdm import tqdm\n"
   ]
  },
  {
   "cell_type": "code",
   "execution_count": 2,
   "id": "05572799",
   "metadata": {},
   "outputs": [
    {
     "name": "stderr",
     "output_type": "stream",
     "text": [
      "[nltk_data] Downloading package stopwords to /home/chandu/nltk_data...\n",
      "[nltk_data]   Package stopwords is already up-to-date!\n",
      "[nltk_data] Downloading package punkt to /home/chandu/nltk_data...\n",
      "[nltk_data]   Package punkt is already up-to-date!\n"
     ]
    }
   ],
   "source": [
    "import nltk\n",
    "from nltk.corpus import stopwords\n",
    "nltk.download('stopwords')\n",
    "nltk.download('punkt')\n",
    "from nltk.tokenize import RegexpTokenizer \n",
    "from nltk.tokenize import word_tokenize"
   ]
  },
  {
   "cell_type": "code",
   "execution_count": 3,
   "id": "8084d78e",
   "metadata": {},
   "outputs": [],
   "source": [
    "tokenizer = RegexpTokenizer(r'\\w+')\n",
    "stop_words = set(stopwords.words('english'))\n",
    "stop_words.update(['.', ',', '\"', \"'\", ':', ';', '(', ')', '[', ']', '{', '}'])\n",
    "MAX_NB_WORDS=100000"
   ]
  },
  {
   "cell_type": "code",
   "execution_count": 4,
   "id": "4c40f6ae",
   "metadata": {},
   "outputs": [],
   "source": [
    "stopword_path = '/home/chandu/ckm/code/codemix/data/stop_hinglish'\n",
    "stw = pd.read_csv(stopword_path, header=None)\n"
   ]
  },
  {
   "cell_type": "code",
   "execution_count": 5,
   "id": "0e9672a1",
   "metadata": {},
   "outputs": [],
   "source": [
    "stop_words.update(stw[0].tolist())"
   ]
  },
  {
   "cell_type": "code",
   "execution_count": 6,
   "id": "e375714b",
   "metadata": {},
   "outputs": [],
   "source": [
    "# from datasets import load_dataset"
   ]
  },
  {
   "cell_type": "code",
   "execution_count": 7,
   "id": "78950a0a",
   "metadata": {},
   "outputs": [],
   "source": [
    "# model_checkpoint = \"xlm-roberta-base\"\n",
    "# path = '/home/chandu/ckm/code/codemix/data/split_dataset/'\n",
    "# from transformers import XLMRobertaTokenizerFast\n",
    "# tokenizer =XLMRobertaTokenizerFast.from_pretrained(model_checkpoint, use_fast=True)\n",
    "# train, test, valid = load_dataset('csv', data_files={'train':path+'train.csv','test':path+'test.csv','valid':path+'valid.csv'}, split=['train','test','valid'])\n",
    "\n",
    "# train = pd.read_csv(path+'train.csv')\n",
    "# train = pd.read_csv(path+'test.csv')\n",
    "# train = pd.read_csv(path+'train.csv')"
   ]
  },
  {
   "cell_type": "code",
   "execution_count": 8,
   "id": "3d31ae5d",
   "metadata": {},
   "outputs": [],
   "source": [
    "# def tokenize_function(examples):\n",
    "#     return tokenizer(examples[\"tweets\"],truncation=True, padding=True)\n",
    "    \n",
    "# encoded_train = train.map(tokenize_function, batched=True,num_proc=4)\n",
    "# encoded_test  = test.map(tokenize_function, batched=True,num_proc=4)\n",
    "# encoded_valid = valid.map(tokenize_function, batched=True,num_proc=4)"
   ]
  },
  {
   "cell_type": "code",
   "execution_count": 9,
   "id": "d92b8a76",
   "metadata": {},
   "outputs": [],
   "source": [
    "# tokenizer.decode(encoded_train['input_ids'][0])"
   ]
  },
  {
   "cell_type": "markdown",
   "id": "0be46bb9",
   "metadata": {},
   "source": [
    "# Load Embedding index"
   ]
  },
  {
   "cell_type": "code",
   "execution_count": 10,
   "id": "b3940e10",
   "metadata": {},
   "outputs": [],
   "source": [
    "datapath='/home/chandu/ckm/code/codemix/data/Train and valid spli/wv.txt.vec'\n",
    "\n",
    "embeddings_index = {}"
   ]
  },
  {
   "cell_type": "code",
   "execution_count": 11,
   "id": "37fea66e",
   "metadata": {},
   "outputs": [],
   "source": [
    "with open(datapath) as fid:\n",
    "    for i,line in enumerate(fid):\n",
    "        if i==0:\n",
    "            continue\n",
    "        values = line.rstrip().rsplit(' ')\n",
    "        word = values[0]\n",
    "        coefs = np.asarray(values[1:], dtype='float32')\n",
    "        embeddings_index[word] = coefs"
   ]
  },
  {
   "cell_type": "code",
   "execution_count": 12,
   "id": "c276bc38",
   "metadata": {},
   "outputs": [
    {
     "data": {
      "text/plain": [
       "28991"
      ]
     },
     "execution_count": 12,
     "metadata": {},
     "output_type": "execute_result"
    }
   ],
   "source": [
    "len(embeddings_index)"
   ]
  },
  {
   "cell_type": "code",
   "execution_count": 13,
   "id": "d1807a99",
   "metadata": {},
   "outputs": [],
   "source": [
    "path = '/home/chandu/ckm/code/codemix/data/split_dataset/'\n",
    "train = pd.read_csv(path+'train.csv')\n",
    "test  = pd.read_csv(path+'test.csv')"
   ]
  },
  {
   "cell_type": "code",
   "execution_count": 14,
   "id": "f0da7885",
   "metadata": {},
   "outputs": [
    {
     "name": "stdout",
     "output_type": "stream",
     "text": [
      "(115000, 3)\n",
      "(30000, 3)\n"
     ]
    }
   ],
   "source": [
    "print(train.shape)\n",
    "print(test.shape)"
   ]
  },
  {
   "cell_type": "markdown",
   "id": "dbd22651",
   "metadata": {},
   "source": [
    "\n",
    "# tokenizing the data with tokenizer from tensorflow"
   ]
  },
  {
   "cell_type": "code",
   "execution_count": 15,
   "id": "8845ff91",
   "metadata": {},
   "outputs": [
    {
     "name": "stderr",
     "output_type": "stream",
     "text": [
      "\r",
      "  0%|          | 0/115000 [00:00<?, ?it/s]"
     ]
    },
    {
     "name": "stdout",
     "output_type": "stream",
     "text": [
      "pre-processing train data...\n"
     ]
    },
    {
     "name": "stderr",
     "output_type": "stream",
     "text": [
      "100%|██████████| 115000/115000 [00:24<00:00, 4728.11it/s]\n",
      "100%|██████████| 30000/30000 [00:05<00:00, 5111.26it/s]\n"
     ]
    },
    {
     "name": "stdout",
     "output_type": "stream",
     "text": [
      "tokenizing input data...\n",
      "dictionary size:  157324\n"
     ]
    }
   ],
   "source": [
    "from sklearn.utils import shuffle \n",
    "\n",
    "max_seq_len = 30\n",
    "raw_docs_train = train['tweets'].tolist()\n",
    "raw_docs_test = test['tweets'].tolist() \n",
    "num_classes = train['labels'].nunique()\n",
    "\n",
    "print(\"pre-processing train data...\")\n",
    "\n",
    "processed_docs_train = []\n",
    "for doc in tqdm(raw_docs_train):\n",
    "    tokens = word_tokenize(doc)\n",
    "    filtered = [word for word in tokens if word not in stop_words]\n",
    "    processed_docs_train.append(\" \".join(filtered))\n",
    "#end for\n",
    "\n",
    "processed_docs_test = []\n",
    "for doc in tqdm(raw_docs_test):\n",
    "    tokens = word_tokenize(doc)\n",
    "    filtered = [word for word in tokens if word not in stop_words]\n",
    "    processed_docs_test.append(\" \".join(filtered))\n",
    "#end for\n",
    "\n",
    "print(\"tokenizing input data...\")\n",
    "tokenizer = Tokenizer(num_words=MAX_NB_WORDS, lower=True, char_level=False)\n",
    "tokenizer.fit_on_texts(processed_docs_train + processed_docs_test)  #leaky\n",
    "word_seq_train = tokenizer.texts_to_sequences(processed_docs_train)\n",
    "word_seq_test = tokenizer.texts_to_sequences(processed_docs_test)\n",
    "word_index = tokenizer.word_index\n",
    "print(\"dictionary size: \", len(word_index))\n",
    "\n",
    "#pad sequences\n",
    "word_seq_train = pad_sequences(word_seq_train, maxlen=max_seq_len)\n",
    "word_seq_test = pad_sequences(word_seq_test, maxlen=max_seq_len)"
   ]
  },
  {
   "cell_type": "markdown",
   "id": "dd7171cd",
   "metadata": {},
   "source": [
    "# using CKM tokenizer"
   ]
  },
  {
   "cell_type": "code",
   "execution_count": 16,
   "id": "2fe77757",
   "metadata": {},
   "outputs": [],
   "source": [
    "import sys\n",
    "\n",
    "sys.path.append('/home/chandu/ckm/code/models/mymodels/')"
   ]
  },
  {
   "cell_type": "code",
   "execution_count": 17,
   "id": "01e8d3bb",
   "metadata": {},
   "outputs": [],
   "source": [
    "# from ckm_tokenizer import *\n",
    "\n",
    "# data_src = train['tweets'].tolist()\n",
    "# src_num_words = 100000\n",
    "\n",
    "# tokenizer_src = TokenizerWrap(texts=data_src,\n",
    "#                               padding='post',\n",
    "#                               reverse=False,\n",
    "#                               num_words=src_num_words)\n",
    "\n",
    "\n",
    "\n",
    "# tokens_src = tokenizer_src.tokens_padded\n",
    "\n",
    "# print(tokens_src.shape)\n",
    "# encoder_input_data = tokens_src\n",
    "# print((encoder_input_data[0]))"
   ]
  },
  {
   "cell_type": "markdown",
   "id": "f2b75c66",
   "metadata": {},
   "source": [
    "# Shape and Train with LSTM\n",
    "defining variables that used on training"
   ]
  },
  {
   "cell_type": "code",
   "execution_count": 18,
   "id": "d0722861",
   "metadata": {},
   "outputs": [],
   "source": [
    "#training params\n",
    "batch_size = 32\n",
    "num_epochs = 10\n",
    "\n",
    "#model parameters\n",
    "num_filters = 64 \n",
    "embed_dim   = 100 \n",
    "weight_decay= 1e-4"
   ]
  },
  {
   "cell_type": "code",
   "execution_count": 19,
   "id": "4cfca936",
   "metadata": {
    "scrolled": true
   },
   "outputs": [
    {
     "name": "stdout",
     "output_type": "stream",
     "text": [
      "preparing embedding matrix...\n",
      "number of null word embeddings: 71931\n"
     ]
    }
   ],
   "source": [
    "#embedding matrix\n",
    "\n",
    "print('preparing embedding matrix...')\n",
    "\n",
    "words_not_found = []\n",
    "nb_words = min(MAX_NB_WORDS, len(word_index)+1)\n",
    "embedding_matrix = np.zeros((nb_words, embed_dim))\n",
    "\n",
    "for word, i in word_index.items():\n",
    "    if i >= nb_words:\n",
    "        continue\n",
    "    embedding_vector = embeddings_index.get(word)\n",
    "    if (embedding_vector is not None) and len(embedding_vector) > 0:\n",
    "        # words not found in embedding index will be all-zeros.\n",
    "        embedding_matrix[i] = embedding_vector\n",
    "    else:\n",
    "        words_not_found.append(word)\n",
    "print('number of null word embeddings: %d' % np.sum(np.sum(embedding_matrix, axis=1) == 0))"
   ]
  },
  {
   "cell_type": "code",
   "execution_count": 20,
   "id": "75b095a1",
   "metadata": {},
   "outputs": [
    {
     "name": "stdout",
     "output_type": "stream",
     "text": [
      "Model: \"sequential\"\n",
      "_________________________________________________________________\n",
      "Layer (type)                 Output Shape              Param #   \n",
      "=================================================================\n",
      "embedding (Embedding)        (None, 30, 100)           10000000  \n",
      "_________________________________________________________________\n",
      "bidirectional (Bidirectional (None, 64)                34048     \n",
      "_________________________________________________________________\n",
      "flatten (Flatten)            (None, 64)                0         \n",
      "_________________________________________________________________\n",
      "dense (Dense)                (None, 32)                2080      \n",
      "_________________________________________________________________\n",
      "dropout (Dropout)            (None, 32)                0         \n",
      "_________________________________________________________________\n",
      "dense_1 (Dense)              (None, 1)                 33        \n",
      "=================================================================\n",
      "Total params: 10,036,161\n",
      "Trainable params: 36,161\n",
      "Non-trainable params: 10,000,000\n",
      "_________________________________________________________________\n"
     ]
    }
   ],
   "source": [
    "model = tf.keras.Sequential()\n",
    "\n",
    "model.add(Embedding(nb_words,embed_dim,input_length=max_seq_len, weights=[embedding_matrix],trainable=False))\n",
    "model.add(Bidirectional(LSTM(32)))\n",
    "# model.add(Attention(max_seq_len))\n",
    "model.add(Flatten())\n",
    "model.add(Dense(32,activation='relu'))\n",
    "model.add(Dropout(0.4))\n",
    "model.add(Dense(1,activation='sigmoid'))\n",
    "model.summary()"
   ]
  },
  {
   "cell_type": "code",
   "execution_count": 21,
   "id": "bc927dd6",
   "metadata": {},
   "outputs": [],
   "source": [
    "model.compile(loss='binary_crossentropy', optimizer='adam', metrics=['accuracy'])"
   ]
  },
  {
   "cell_type": "code",
   "execution_count": 22,
   "id": "ebe9404d",
   "metadata": {},
   "outputs": [
    {
     "data": {
      "text/plain": [
       "0         0\n",
       "1         0\n",
       "2         1\n",
       "3         1\n",
       "4         1\n",
       "         ..\n",
       "114995    0\n",
       "114996    0\n",
       "114997    0\n",
       "114998    0\n",
       "114999    1\n",
       "Name: labels, Length: 115000, dtype: int64"
      ]
     },
     "execution_count": 22,
     "metadata": {},
     "output_type": "execute_result"
    }
   ],
   "source": [
    "y_train = train['labels']\n",
    "y_train"
   ]
  },
  {
   "cell_type": "code",
   "execution_count": 23,
   "id": "79c15fe6",
   "metadata": {},
   "outputs": [
    {
     "name": "stdout",
     "output_type": "stream",
     "text": [
      "Epoch 1/10\n",
      "315/315 [==============================] - 23s 54ms/step - loss: 0.5924 - accuracy: 0.6763 - val_loss: 0.5043 - val_accuracy: 0.7541\n",
      "Epoch 2/10\n",
      "315/315 [==============================] - 16s 50ms/step - loss: 0.5069 - accuracy: 0.7510 - val_loss: 0.4924 - val_accuracy: 0.7588\n",
      "Epoch 3/10\n",
      "315/315 [==============================] - 16s 51ms/step - loss: 0.4947 - accuracy: 0.7583 - val_loss: 0.4865 - val_accuracy: 0.7627\n",
      "Epoch 4/10\n",
      "315/315 [==============================] - 16s 50ms/step - loss: 0.4853 - accuracy: 0.7639 - val_loss: 0.4820 - val_accuracy: 0.7639\n",
      "Epoch 5/10\n",
      "315/315 [==============================] - 16s 50ms/step - loss: 0.4762 - accuracy: 0.7678 - val_loss: 0.4781 - val_accuracy: 0.7666\n",
      "Epoch 6/10\n",
      "315/315 [==============================] - 16s 50ms/step - loss: 0.4686 - accuracy: 0.7737 - val_loss: 0.4762 - val_accuracy: 0.7691\n",
      "Epoch 7/10\n",
      "315/315 [==============================] - 16s 51ms/step - loss: 0.4632 - accuracy: 0.7765 - val_loss: 0.4749 - val_accuracy: 0.7689\n",
      "Epoch 8/10\n",
      "315/315 [==============================] - 17s 55ms/step - loss: 0.4578 - accuracy: 0.7809 - val_loss: 0.4759 - val_accuracy: 0.7682\n",
      "Epoch 9/10\n",
      "315/315 [==============================] - 19s 60ms/step - loss: 0.4528 - accuracy: 0.7823 - val_loss: 0.4753 - val_accuracy: 0.7688\n",
      "Epoch 10/10\n",
      "315/315 [==============================] - 16s 52ms/step - loss: 0.4458 - accuracy: 0.7867 - val_loss: 0.4773 - val_accuracy: 0.7676\n"
     ]
    }
   ],
   "source": [
    "es_callback = EarlyStopping(monitor='val_loss', patience=3)\n",
    "\n",
    "\n",
    "history = model.fit(word_seq_train, y_train, batch_size=256,\n",
    "          epochs=num_epochs, validation_split=0.3, callbacks=[es_callback], shuffle=False)"
   ]
  },
  {
   "cell_type": "code",
   "execution_count": 24,
   "id": "fd0adfd7",
   "metadata": {},
   "outputs": [
    {
     "data": {
      "image/png": "[encoded data removed]",
      "text/plain": [
       "<Figure size 432x288 with 1 Axes>"
      ]
     },
     "metadata": {
      "needs_background": "light"
     },
     "output_type": "display_data"
    }
   ],
   "source": [
    "import matplotlib.pyplot as plt\n",
    "#generate plots\n",
    "plt.figure()\n",
    "plt.plot(history.history['loss'], lw=2.0, color='b', label='train')\n",
    "plt.plot(history.history['val_loss'], lw=2.0, color='r', label='val')\n",
    "plt.title('LSTM sentiment')\n",
    "plt.xlabel('Epochs')\n",
    "plt.ylabel('Cross-Entropy Loss')\n",
    "plt.legend(loc='upper right')\n",
    "plt.show()\n"
   ]
  },
  {
   "cell_type": "code",
   "execution_count": 25,
   "id": "85d820cf",
   "metadata": {},
   "outputs": [
    {
     "data": {
      "image/png": "[encoded data removed]",
      "text/plain": [
       "<Figure size 432x288 with 1 Axes>"
      ]
     },
     "metadata": {
      "needs_background": "light"
     },
     "output_type": "display_data"
    }
   ],
   "source": [
    "plt.figure()\n",
    "plt.plot(history.history['accuracy'], lw=2.0, color='b', label='train')\n",
    "plt.plot(history.history['val_accuracy'], lw=2.0, color='r', label='val')\n",
    "plt.title('LSTM sentiment')\n",
    "plt.xlabel('Epochs')\n",
    "plt.ylabel('Accuracy')\n",
    "plt.legend(loc='upper left')\n",
    "plt.show()"
   ]
  },
  {
   "cell_type": "code",
   "execution_count": 26,
   "id": "c53dc7ab",
   "metadata": {},
   "outputs": [],
   "source": [
    "from print_ckm_metrics import metrics"
   ]
  },
  {
   "cell_type": "code",
   "execution_count": 27,
   "id": "cfb05421",
   "metadata": {},
   "outputs": [],
   "source": [
    "from pandas.core.common import flatten"
   ]
  },
  {
   "cell_type": "code",
   "execution_count": 28,
   "id": "2ea94f30",
   "metadata": {},
   "outputs": [],
   "source": [
    "predictions =model.predict(word_seq_test)"
   ]
  },
  {
   "cell_type": "code",
   "execution_count": 29,
   "id": "852779fa",
   "metadata": {},
   "outputs": [],
   "source": [
    "predictions= np.array(list(flatten(predictions)))"
   ]
  },
  {
   "cell_type": "code",
   "execution_count": 30,
   "id": "325bc0ea",
   "metadata": {},
   "outputs": [],
   "source": [
    "predictions=1*(predictions >=0.5)\n",
    "# predictions=(predictions >=0.5).astype(int)"
   ]
  },
  {
   "cell_type": "code",
   "execution_count": 31,
   "id": "9edd2347",
   "metadata": {},
   "outputs": [
    {
     "data": {
      "text/plain": [
       "array([0, 1, 0, ..., 0, 1, 0])"
      ]
     },
     "execution_count": 31,
     "metadata": {},
     "output_type": "execute_result"
    }
   ],
   "source": [
    "y_true = test['labels'].to_numpy()\n",
    "y_true"
   ]
  },
  {
   "cell_type": "code",
   "execution_count": 32,
   "id": "b568be1c",
   "metadata": {},
   "outputs": [
    {
     "name": "stdout",
     "output_type": "stream",
     "text": [
      "Accuracy score : 0.7665666666666666\n",
      "micro f1 score:0.7665666666666666\n",
      "micro auc score:0.7666547121934347\n",
      "precision, recall, f1, support:(0.7665666666666666, 0.7665666666666666, 0.7665666666666666, None)\n"
     ]
    }
   ],
   "source": [
    "metrics(y_true, predictions)"
   ]
  },
  {
   "cell_type": "code",
   "execution_count": null,
   "id": "e68c63f8",
   "metadata": {},
   "outputs": [],
   "source": []
  }
 ],
 "metadata": {
  "kernelspec": {
   "display_name": "Python 3",
   "language": "python",
   "name": "python3"
  },
  "language_info": {
   "codemirror_mode": {
    "name": "ipython",
    "version": 3
   },
   "file_extension": ".py",
   "mimetype": "text/x-python",
   "name": "python",
   "nbconvert_exporter": "python",
   "pygments_lexer": "ipython3",
   "version": "3.8.2"
  }
 },
 "nbformat": 4,
 "nbformat_minor": 5
}
