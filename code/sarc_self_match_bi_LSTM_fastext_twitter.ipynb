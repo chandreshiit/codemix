{
  "nbformat": 4,
  "nbformat_minor": 2,
  "metadata": {
    "accelerator": "GPU",
    "colab": {
      "name": "sarc-self-match-bi-LSTM-fastext-twitter.ipynb",
      "provenance": [],
      "collapsed_sections": [],
      "machine_shape": "hm",
      "include_colab_link": true
    },
    "kernelspec": {
      "name": "python3",
      "display_name": "Python 3.7.12 64-bit ('python3.7': venv)"
    },
    "language_info": {
      "codemirror_mode": {
        "name": "ipython",
        "version": 3
      },
      "file_extension": ".py",
      "mimetype": "text/x-python",
      "name": "python",
      "nbconvert_exporter": "python",
      "pygments_lexer": "ipython3",
      "version": "3.7.12"
    },
    "interpreter": {
      "hash": "1c510517b1d1c6b4226b1cc00e3d5fd04ffd563ff548b3765a8c1180c23cd309"
    }
  },
  "cells": [
    {
      "cell_type": "markdown",
      "source": [
        "<a href=\"https://colab.research.google.com/github/chandu8542/codemix/blob/main/sarc_self_match_bi_LSTM_fastext_twitter.ipynb\" target=\"_parent\"><img src=\"https://colab.research.google.com/assets/colab-badge.svg\" alt=\"Open In Colab\"/></a>"
      ],
      "metadata": {
        "id": "view-in-github",
        "colab_type": "text"
      }
    },
    {
      "cell_type": "code",
      "execution_count": 1,
      "source": [
        "#import wget\n",
        "import os\n",
        "import numpy as np\n",
        "import pandas as pd"
      ],
      "outputs": [],
      "metadata": {
        "id": "BUZxP39u3D_f"
      }
    },
    {
      "cell_type": "code",
      "execution_count": 2,
      "source": [
        "import tensorflow as tf\n",
        "from tensorflow.keras import Sequential\n",
        "from tensorflow.keras.initializers import Constant\n",
        "from tensorflow.keras.preprocessing.sequence import pad_sequences\n",
        "from tensorflow.keras.preprocessing.text import Tokenizer\n",
        "from tensorflow.keras import layers\n",
        "from sklearn.metrics import f1_score\n",
        "from sklearn.metrics import precision_score\n",
        "from sklearn.metrics import recall_score\n",
        "from sklearn.metrics import accuracy_score\n",
        "from sklearn.metrics import average_precision_score\n",
        "from sklearn.utils import shuffle\n",
        "\n",
        "import matplotlib.pyplot as plt"
      ],
      "outputs": [],
      "metadata": {
        "id": "18T245ybi91l"
      }
    },
    {
      "cell_type": "code",
      "execution_count": 4,
      "source": [
        "def get_max_len(tweets):\n",
        "    max_tweet_len = len(max(tweets, key=len).split())\n",
        "    return max_tweet_len"
      ],
      "outputs": [],
      "metadata": {
        "id": "aIUwWDTDLaKM"
      }
    },
    {
      "cell_type": "code",
      "execution_count": 5,
      "source": [
        "def get_mean_len(tweets):\n",
        "    sum_of_length = sum([len(l.split()) for l in tweets])\n",
        "    avg_tweet_len = sum_of_length / float(len(tweets))\n",
        "    return avg_tweet_len"
      ],
      "outputs": [],
      "metadata": {
        "id": "m-mbmWEqoQgQ"
      }
    },
    {
      "cell_type": "code",
      "execution_count": 6,
      "source": [
        "datapath = \"/home/ckm/ck_project/data/sarcasm/\"\n",
        "df_embedding = pd.read_csv(datapath+'hing_emb', sep=\" \", quoting=3, header=None, index_col=0,skiprows=1)"
      ],
      "outputs": [],
      "metadata": {
        "id": "Pgb3-bEv5ymq"
      }
    },
    {
      "cell_type": "markdown",
      "source": [
        "**LexVec Word Embedding**"
      ],
      "metadata": {
        "id": "xXPzAUnv3II9"
      }
    },
    {
      "cell_type": "code",
      "execution_count": 7,
      "source": [
        "embedding_matrix = df_embedding.to_numpy()"
      ],
      "outputs": [],
      "metadata": {
        "id": "zF6son_jXbAG"
      }
    },
    {
      "cell_type": "markdown",
      "source": [
        "**Extracting Vocabulary from word embedding**"
      ],
      "metadata": {
        "id": "DK1_bVo4162H"
      }
    },
    {
      "cell_type": "code",
      "execution_count": 8,
      "source": [
        "vocab = []\n",
        "\n",
        "for word in list(df_embedding.index):\n",
        "  vocab.append(str(word))"
      ],
      "outputs": [],
      "metadata": {
        "id": "YaugOfQwXnRj"
      }
    },
    {
      "cell_type": "code",
      "execution_count": 9,
      "source": [
        "vocab_size , vocab_dim = embedding_matrix.shape\n",
        "vocab_size, vocab_dim"
      ],
      "outputs": [
        {
          "output_type": "execute_result",
          "data": {
            "text/plain": [
              "(44050, 100)"
            ]
          },
          "metadata": {},
          "execution_count": 9
        }
      ],
      "metadata": {
        "id": "aX7oxJSNYbOM"
      }
    },
    {
      "cell_type": "markdown",
      "source": [
        "**Reading the data**\n"
      ],
      "metadata": {
        "id": "p3_tf2o-EUsz"
      }
    },
    {
      "cell_type": "code",
      "execution_count": 10,
      "source": [
        "\n",
        "traindata = pd.read_csv( datapath+\"train.csv\",sep=',')\n",
        "testdata = pd.read_csv(datapath+ \"test.csv\",sep=',')\n",
        "validdata = pd.read_csv(datapath+\"valid.csv\",sep=',')"
      ],
      "outputs": [],
      "metadata": {
        "id": "2bIYFokEdWQw"
      }
    },
    {
      "cell_type": "code",
      "execution_count": 11,
      "source": [
        "print(traindata.shape)\n",
        "print(testdata.shape)\n",
        "print(validdata.shape)"
      ],
      "outputs": [
        {
          "output_type": "stream",
          "name": "stdout",
          "text": [
            "(115000, 3)\n",
            "(30000, 3)\n",
            "(21370, 3)\n"
          ]
        }
      ],
      "metadata": {
        "id": "xsqB1BdsSv2K"
      }
    },
    {
      "cell_type": "code",
      "execution_count": 12,
      "source": [
        "X_train_data = traindata['tweets']\n",
        "y_train_labels = traindata['labels']\n",
        "X_test_data = testdata['tweets']\n",
        "y_test_labels = testdata['labels']\n",
        "X_valid_data = validdata['tweets']\n",
        "y_valid_labels  = validdata['labels']"
      ],
      "outputs": [],
      "metadata": {
        "id": "7NQzxiGzJxlt"
      }
    },
    {
      "cell_type": "code",
      "execution_count": 13,
      "source": [
        "y_test_labels"
      ],
      "outputs": [
        {
          "output_type": "execute_result",
          "data": {
            "text/plain": [
              "0        0\n",
              "1        1\n",
              "2        0\n",
              "3        0\n",
              "4        1\n",
              "        ..\n",
              "29995    1\n",
              "29996    0\n",
              "29997    0\n",
              "29998    1\n",
              "29999    0\n",
              "Name: labels, Length: 30000, dtype: int64"
            ]
          },
          "metadata": {},
          "execution_count": 13
        }
      ],
      "metadata": {
        "id": "pxNKuhoBAJmF"
      }
    },
    {
      "cell_type": "code",
      "execution_count": 14,
      "source": [
        "max_input_length = get_max_len(X_train_data)\n",
        "mean_input_length = get_mean_len(X_train_data)\n",
        "max_input_length, int(mean_input_length)\n",
        "\n"
      ],
      "outputs": [
        {
          "output_type": "execute_result",
          "data": {
            "text/plain": [
              "(65, 17)"
            ]
          },
          "metadata": {},
          "execution_count": 14
        }
      ],
      "metadata": {
        "id": "M0tliTJ-L0Aj"
      }
    },
    {
      "cell_type": "markdown",
      "source": [
        "**Tokenization**"
      ],
      "metadata": {
        "id": "52R91-rW1W5B"
      }
    },
    {
      "cell_type": "code",
      "execution_count": 15,
      "source": [
        "tokenizer = Tokenizer(num_words= vocab_size)\n",
        "tokenizer.fit_on_texts(vocab)\n",
        "\n",
        "maxlen = max_input_length\n",
        "\n",
        "# tokenizing training data\n",
        "sequences_train = tokenizer.texts_to_sequences(X_train_data)\n",
        "X_train_data = pad_sequences(sequences_train, maxlen=maxlen,padding='post',truncating='post')\n",
        "\n",
        "# # tokenizing test data\n",
        "sequences_test = tokenizer.texts_to_sequences(X_test_data)\n",
        "X_test_data = pad_sequences(sequences_test, maxlen=maxlen,padding='post',truncating='post')\n",
        "\n",
        "# tokenize the validation data\n",
        "sequences_valid = tokenizer.texts_to_sequences(X_valid_data)\n",
        "X_valid_data = pad_sequences(sequences_valid, maxlen=maxlen,padding='post',truncating='post')\n"
      ],
      "outputs": [],
      "metadata": {
        "id": "_GZ14Cics8Y6"
      }
    },
    {
      "cell_type": "code",
      "execution_count": 61,
      "source": [
        "print(sequences_train[0])\n",
        "print(X_train_data[0])\n",
        "tokenizer.sequences_to_texts([sequences_train[0]])"
      ],
      "outputs": [
        {
          "output_type": "stream",
          "name": "stdout",
          "text": [
            "[1431, 9106, 16, 26, 35, 16, 16, 12, 196]\n",
            "[1431 9106   16   26   35   16   16   12  196    0    0    0    0    0\n",
            "    0    0    0    0    0    0    0    0    0    0    0    0    0    0\n",
            "    0    0    0    0    0    0    0    0    0    0    0    0    0    0\n",
            "    0    0    0    0    0    0    0    0    0    0    0    0    0    0\n",
            "    0    0    0    0    0    0    0    0    0]\n"
          ]
        },
        {
          "output_type": "execute_result",
          "data": {
            "text/plain": [
              "['general secretary of ghar on of of in his']"
            ]
          },
          "metadata": {},
          "execution_count": 61
        }
      ],
      "metadata": {
        "id": "YzF9D80qtm0j"
      }
    },
    {
      "cell_type": "code",
      "execution_count": 62,
      "source": [
        "checkpoint_path = \"/content/drive/MyDrive/models/cp.ckpt\"\n",
        "checkpoint_dir = os.path.dirname(checkpoint_path)\n",
        "\n",
        "# Create a callback that saves the model's weights\n",
        "cp_callback = tf.keras.callbacks.ModelCheckpoint(filepath=checkpoint_path,\n",
        "                                                 save_weights_only=True,\n",
        "                                                 verbose=1)"
      ],
      "outputs": [],
      "metadata": {
        "id": "JxddN6xgZxbc"
      }
    },
    {
      "cell_type": "code",
      "execution_count": 63,
      "source": [
        "'''class myCallback(tf.keras.callbacks.Callback):\n",
        "  def on_epoch_end(self, epoch, logs={}):\n",
        "    try:\n",
        "      if(logs.get('accuracy')>0.979):\n",
        "        self.model.stop_training = True\n",
        "    except:\n",
        "      if(logs.get('acc')>0.979):\n",
        "        self.model.stop_training = True\n",
        "\n",
        "\n",
        "acc_callback = myCallback()\n",
        "early_stopping_callback = tf.keras.callbacks.EarlyStopping()\n",
        "'''\n",
        "\n",
        "def scheduler(epoch, lr):\n",
        "  if epoch < 5:\n",
        "    print(\"Learning rate\", lr)\n",
        "    return lr\n",
        "  else:\n",
        "    lr = lr * tf.math.exp(-0.1)\n",
        "    print(\"Epoch: {} Learning rate: {}\", epoch, lr)\n",
        "    return lr\n",
        "\n",
        "callback = tf.keras.callbacks.LearningRateScheduler(scheduler)"
      ],
      "outputs": [],
      "metadata": {
        "id": "-r_A-VoyK9YU"
      }
    },
    {
      "cell_type": "code",
      "execution_count": 64,
      "source": [
        "class SelfMatchingLayer(tf.keras.layers.Layer):\n",
        "    def __init__(self,  seq_length, embed_dim, **kwargs):\n",
        "      self.seq_length = seq_length\n",
        "      self.embed_dim  = embed_dim\n",
        "      self.output_dim = seq_length*embed_dim # dim of the paramter W\n",
        "      super(SelfMatchingLayer, self).__init__(**kwargs)\n",
        "\n",
        "    def build(self, input_shape): # input_shape is the shape of x\n",
        "      self.M = self.add_weight(name='M', # M is square matrix of shape n*k X n*k , see the paper selfmatching network\n",
        "                                      shape=tf.TensorShape((self.output_dim, self.output_dim )).as_list(),\n",
        "                                      initializer='glorot_uniform',\n",
        "                                      trainable=True)\n",
        "      super(SelfMatchingLayer, self).build(input_shape)  # Be sure to call this at the end\n",
        "      \n",
        "    def call(self,x):\n",
        "      # print(K.int_shape(x))\n",
        "      # create an identity matrix of shape seq_length\n",
        "      t = tf.eye(self.seq_length, dtype=x.dtype) \n",
        "      # Add one dimension to x and one dimension to t\n",
        "      xt = tf.expand_dims(x, 1) * tf.expand_dims(t, 2)\n",
        "      # Reshape, output is basically a diagnoal magtrix whose entries are embeddings\n",
        "      output = tf.reshape(xt, (-1, self.seq_length, self.output_dim))\n",
        "      # E*M*E^T happens bellow\n",
        "      tmp = tf.matmul(output, self.M)\n",
        "      result = tf.matmul(tmp,output, transpose_b=True)\n",
        "      # maximize by rows\n",
        "      result = tf.reduce_max(result, axis=-1)\n",
        "      # take softmax\n",
        "      result = tf.nn.softmax(result)\n",
        "      result = tf.einsum('ij,ijk->ik',result,x)\n",
        "      return result\n",
        "    def compute_output_shape(input_shape):\n",
        "      return (input_shape[0], self.output_dim)"
      ],
      "outputs": [],
      "metadata": {
        "id": "AyN9dTkFNqA6"
      }
    },
    {
      "cell_type": "code",
      "execution_count": 65,
      "source": [
        "input_layer = tf.keras.Input(shape=(maxlen, ),name='text_input')\n",
        "input_embedding_layer = tf.keras.layers.Embedding(vocab_size, vocab_dim,\n",
        "                        embeddings_initializer=Constant(embedding_matrix), \n",
        "                        trainable = False)\n",
        "bi_lstm_layer = layers.Bidirectional(layers.LSTM(100, dropout=0.4,\n",
        "                        recurrent_dropout=0))\n",
        "selfmatching_layer = SelfMatchingLayer(maxlen,vocab_dim, name='selfmatch')"
      ],
      "outputs": [
        {
          "output_type": "stream",
          "name": "stdout",
          "text": [
            "WARNING:tensorflow:Layer lstm_2 will not use cuDNN kernels since it doesn't meet the criteria. It will use a generic GPU kernel as fallback when running on GPU.\n",
            "WARNING:tensorflow:Layer lstm_2 will not use cuDNN kernels since it doesn't meet the criteria. It will use a generic GPU kernel as fallback when running on GPU.\n",
            "WARNING:tensorflow:Layer lstm_2 will not use cuDNN kernels since it doesn't meet the criteria. It will use a generic GPU kernel as fallback when running on GPU.\n"
          ]
        }
      ],
      "metadata": {
        "id": "6PCAUZvgyTiz"
      }
    },
    {
      "cell_type": "code",
      "execution_count": 66,
      "source": [
        "embedding_output = input_embedding_layer(input_layer)\n",
        "\n",
        "selfmatch_output = selfmatching_layer(embedding_output)\n",
        "bi_lstm_output = bi_lstm_layer(embedding_output)\n",
        "\n",
        "concat_features = tf.concat([selfmatch_output, bi_lstm_output],-1)\n",
        "sarc_prediction = layers.Dense(64,activation='relu',name='activation_relu')(concat_features)\n",
        "sarc_prediction = layers.Dense(2,activation='softmax',name='activation_softmax')(sarc_prediction)\n",
        "#sarc_prediction = layers.Softmax()(sarc_prediction)"
      ],
      "outputs": [],
      "metadata": {
        "id": "5JtwRmigW9cl"
      }
    },
    {
      "cell_type": "code",
      "execution_count": 67,
      "source": [
        "model = tf.keras.Model(input_layer, sarc_prediction)\n",
        "tf.keras.utils.plot_model(model,'model.jpg',show_shapes=True)"
      ],
      "outputs": [
        {
          "output_type": "execute_result",
          "data": {
            "image/jpeg": "[encoded data removed]",
            "text/plain": [
              "<IPython.core.display.Image object>"
            ]
          },
          "metadata": {},
          "execution_count": 67
        }
      ],
      "metadata": {
        "id": "J8HP_palWcmG"
      }
    },
    {
      "cell_type": "code",
      "execution_count": 68,
      "source": [
        "model.compile(loss=tf.keras.losses.SparseCategoricalCrossentropy(), \n",
        "              optimizer='adam', metrics=['accuracy'])\n",
        "\n",
        "model.summary()"
      ],
      "outputs": [
        {
          "output_type": "stream",
          "name": "stdout",
          "text": [
            "Model: \"model_2\"\n",
            "__________________________________________________________________________________________________\n",
            "Layer (type)                    Output Shape         Param #     Connected to                     \n",
            "==================================================================================================\n",
            "text_input (InputLayer)         [(None, 65)]         0                                            \n",
            "__________________________________________________________________________________________________\n",
            "embedding_2 (Embedding)         (None, 65, 100)      4405000     text_input[0][0]                 \n",
            "__________________________________________________________________________________________________\n",
            "selfmatch (SelfMatchingLayer)   (None, 100)          42250000    embedding_2[0][0]                \n",
            "__________________________________________________________________________________________________\n",
            "bidirectional_2 (Bidirectional) (None, 200)          160800      embedding_2[0][0]                \n",
            "__________________________________________________________________________________________________\n",
            "tf.concat_2 (TFOpLambda)        (None, 300)          0           selfmatch[0][0]                  \n",
            "                                                                 bidirectional_2[0][0]            \n",
            "__________________________________________________________________________________________________\n",
            "activation_relu (Dense)         (None, 64)           19264       tf.concat_2[0][0]                \n",
            "__________________________________________________________________________________________________\n",
            "activation_softmax (Dense)      (None, 2)            130         activation_relu[0][0]            \n",
            "==================================================================================================\n",
            "Total params: 46,835,194\n",
            "Trainable params: 42,430,194\n",
            "Non-trainable params: 4,405,000\n",
            "__________________________________________________________________________________________________\n"
          ]
        }
      ],
      "metadata": {
        "id": "IEx0uR-v6uuw"
      }
    },
    {
      "cell_type": "code",
      "execution_count": 69,
      "source": [
        "history = model.fit(np.array(X_train_data), np.array(y_train_labels), validation_data=(np.array(X_valid_data), np.array(y_valid_labels)), epochs=20, callbacks= [callback]) "
      ],
      "outputs": [
        {
          "output_type": "stream",
          "name": "stdout",
          "text": [
            "Epoch 1/20\n",
            "Learning rate 0.0010000000474974513\n",
            "3594/3594 [==============================] - 1272s 353ms/step - loss: 0.5416 - accuracy: 0.7337 - val_loss: 0.4360 - val_accuracy: 0.8149\n",
            "Epoch 2/20\n",
            "Learning rate 0.0010000000474974513\n",
            "3594/3594 [==============================] - 1265s 352ms/step - loss: 0.4252 - accuracy: 0.8259 - val_loss: 0.3826 - val_accuracy: 0.8481\n",
            "Epoch 3/20\n",
            "Learning rate 0.0010000000474974513\n",
            "3594/3594 [==============================] - 1266s 352ms/step - loss: 0.3846 - accuracy: 0.8472 - val_loss: 0.3632 - val_accuracy: 0.8547\n",
            "Epoch 4/20\n",
            "Learning rate 0.0010000000474974513\n",
            "3594/3594 [==============================] - 1267s 353ms/step - loss: 0.3606 - accuracy: 0.8564 - val_loss: 0.3753 - val_accuracy: 0.8534\n",
            "Epoch 5/20\n",
            "Learning rate 0.0010000000474974513\n",
            "3594/3594 [==============================] - 1268s 353ms/step - loss: 0.3433 - accuracy: 0.8638 - val_loss: 0.3618 - val_accuracy: 0.8561\n",
            "Epoch 6/20\n",
            "Epoch: {} Learning rate: {} 5 tf.Tensor(0.0009048374, shape=(), dtype=float32)\n",
            "3594/3594 [==============================] - 1270s 353ms/step - loss: 0.3263 - accuracy: 0.8699 - val_loss: 0.3614 - val_accuracy: 0.8553\n",
            "Epoch 7/20\n",
            "Epoch: {} Learning rate: {} 6 tf.Tensor(0.0008187307, shape=(), dtype=float32)\n",
            "3594/3594 [==============================] - 1264s 352ms/step - loss: 0.3121 - accuracy: 0.8755 - val_loss: 0.3560 - val_accuracy: 0.8564\n",
            "Epoch 8/20\n",
            "Epoch: {} Learning rate: {} 7 tf.Tensor(0.0007408181, shape=(), dtype=float32)\n",
            "3594/3594 [==============================] - 1269s 353ms/step - loss: 0.3024 - accuracy: 0.8796 - val_loss: 0.3611 - val_accuracy: 0.8539\n",
            "Epoch 9/20\n",
            "Epoch: {} Learning rate: {} 8 tf.Tensor(0.0006703199, shape=(), dtype=float32)\n",
            " 100/3594 [..............................] - ETA: 19:55 - loss: 0.2990 - accuracy: 0.8769"
          ]
        },
        {
          "output_type": "error",
          "ename": "KeyboardInterrupt",
          "evalue": "",
          "traceback": [
            "\u001b[0;31m---------------------------------------------------------------------------\u001b[0m",
            "\u001b[0;31mKeyboardInterrupt\u001b[0m                         Traceback (most recent call last)",
            "\u001b[0;32m/tmp/ipykernel_5340/2202661861.py\u001b[0m in \u001b[0;36m<module>\u001b[0;34m\u001b[0m\n\u001b[0;32m----> 1\u001b[0;31m \u001b[0mhistory\u001b[0m \u001b[0;34m=\u001b[0m \u001b[0mmodel\u001b[0m\u001b[0;34m.\u001b[0m\u001b[0mfit\u001b[0m\u001b[0;34m(\u001b[0m\u001b[0mnp\u001b[0m\u001b[0;34m.\u001b[0m\u001b[0marray\u001b[0m\u001b[0;34m(\u001b[0m\u001b[0mX_train_data\u001b[0m\u001b[0;34m)\u001b[0m\u001b[0;34m,\u001b[0m \u001b[0mnp\u001b[0m\u001b[0;34m.\u001b[0m\u001b[0marray\u001b[0m\u001b[0;34m(\u001b[0m\u001b[0my_train_labels\u001b[0m\u001b[0;34m)\u001b[0m\u001b[0;34m,\u001b[0m \u001b[0mvalidation_data\u001b[0m\u001b[0;34m=\u001b[0m\u001b[0;34m(\u001b[0m\u001b[0mnp\u001b[0m\u001b[0;34m.\u001b[0m\u001b[0marray\u001b[0m\u001b[0;34m(\u001b[0m\u001b[0mX_valid_data\u001b[0m\u001b[0;34m)\u001b[0m\u001b[0;34m,\u001b[0m \u001b[0mnp\u001b[0m\u001b[0;34m.\u001b[0m\u001b[0marray\u001b[0m\u001b[0;34m(\u001b[0m\u001b[0my_valid_labels\u001b[0m\u001b[0;34m)\u001b[0m\u001b[0;34m)\u001b[0m\u001b[0;34m,\u001b[0m \u001b[0mepochs\u001b[0m\u001b[0;34m=\u001b[0m\u001b[0;36m20\u001b[0m\u001b[0;34m,\u001b[0m \u001b[0mcallbacks\u001b[0m\u001b[0;34m=\u001b[0m \u001b[0;34m[\u001b[0m\u001b[0mcallback\u001b[0m\u001b[0;34m]\u001b[0m\u001b[0;34m)\u001b[0m\u001b[0;34m\u001b[0m\u001b[0;34m\u001b[0m\u001b[0m\n\u001b[0m",
            "\u001b[0;32m~/python3.7/lib/python3.7/site-packages/keras/engine/training.py\u001b[0m in \u001b[0;36mfit\u001b[0;34m(self, x, y, batch_size, epochs, verbose, callbacks, validation_split, validation_data, shuffle, class_weight, sample_weight, initial_epoch, steps_per_epoch, validation_steps, validation_batch_size, validation_freq, max_queue_size, workers, use_multiprocessing)\u001b[0m\n\u001b[1;32m   1182\u001b[0m                 _r=1):\n\u001b[1;32m   1183\u001b[0m               \u001b[0mcallbacks\u001b[0m\u001b[0;34m.\u001b[0m\u001b[0mon_train_batch_begin\u001b[0m\u001b[0;34m(\u001b[0m\u001b[0mstep\u001b[0m\u001b[0;34m)\u001b[0m\u001b[0;34m\u001b[0m\u001b[0;34m\u001b[0m\u001b[0m\n\u001b[0;32m-> 1184\u001b[0;31m               \u001b[0mtmp_logs\u001b[0m \u001b[0;34m=\u001b[0m \u001b[0mself\u001b[0m\u001b[0;34m.\u001b[0m\u001b[0mtrain_function\u001b[0m\u001b[0;34m(\u001b[0m\u001b[0miterator\u001b[0m\u001b[0;34m)\u001b[0m\u001b[0;34m\u001b[0m\u001b[0;34m\u001b[0m\u001b[0m\n\u001b[0m\u001b[1;32m   1185\u001b[0m               \u001b[0;32mif\u001b[0m \u001b[0mdata_handler\u001b[0m\u001b[0;34m.\u001b[0m\u001b[0mshould_sync\u001b[0m\u001b[0;34m:\u001b[0m\u001b[0;34m\u001b[0m\u001b[0;34m\u001b[0m\u001b[0m\n\u001b[1;32m   1186\u001b[0m                 \u001b[0mcontext\u001b[0m\u001b[0;34m.\u001b[0m\u001b[0masync_wait\u001b[0m\u001b[0;34m(\u001b[0m\u001b[0;34m)\u001b[0m\u001b[0;34m\u001b[0m\u001b[0;34m\u001b[0m\u001b[0m\n",
            "\u001b[0;32m~/python3.7/lib/python3.7/site-packages/tensorflow/python/eager/def_function.py\u001b[0m in \u001b[0;36m__call__\u001b[0;34m(self, *args, **kwds)\u001b[0m\n\u001b[1;32m    883\u001b[0m \u001b[0;34m\u001b[0m\u001b[0m\n\u001b[1;32m    884\u001b[0m       \u001b[0;32mwith\u001b[0m \u001b[0mOptionalXlaContext\u001b[0m\u001b[0;34m(\u001b[0m\u001b[0mself\u001b[0m\u001b[0;34m.\u001b[0m\u001b[0m_jit_compile\u001b[0m\u001b[0;34m)\u001b[0m\u001b[0;34m:\u001b[0m\u001b[0;34m\u001b[0m\u001b[0;34m\u001b[0m\u001b[0m\n\u001b[0;32m--> 885\u001b[0;31m         \u001b[0mresult\u001b[0m \u001b[0;34m=\u001b[0m \u001b[0mself\u001b[0m\u001b[0;34m.\u001b[0m\u001b[0m_call\u001b[0m\u001b[0;34m(\u001b[0m\u001b[0;34m*\u001b[0m\u001b[0margs\u001b[0m\u001b[0;34m,\u001b[0m \u001b[0;34m**\u001b[0m\u001b[0mkwds\u001b[0m\u001b[0;34m)\u001b[0m\u001b[0;34m\u001b[0m\u001b[0;34m\u001b[0m\u001b[0m\n\u001b[0m\u001b[1;32m    886\u001b[0m \u001b[0;34m\u001b[0m\u001b[0m\n\u001b[1;32m    887\u001b[0m       \u001b[0mnew_tracing_count\u001b[0m \u001b[0;34m=\u001b[0m \u001b[0mself\u001b[0m\u001b[0;34m.\u001b[0m\u001b[0mexperimental_get_tracing_count\u001b[0m\u001b[0;34m(\u001b[0m\u001b[0;34m)\u001b[0m\u001b[0;34m\u001b[0m\u001b[0;34m\u001b[0m\u001b[0m\n",
            "\u001b[0;32m~/python3.7/lib/python3.7/site-packages/tensorflow/python/eager/def_function.py\u001b[0m in \u001b[0;36m_call\u001b[0;34m(self, *args, **kwds)\u001b[0m\n\u001b[1;32m    915\u001b[0m       \u001b[0;31m# In this case we have created variables on the first call, so we run the\u001b[0m\u001b[0;34m\u001b[0m\u001b[0;34m\u001b[0m\u001b[0;34m\u001b[0m\u001b[0m\n\u001b[1;32m    916\u001b[0m       \u001b[0;31m# defunned version which is guaranteed to never create variables.\u001b[0m\u001b[0;34m\u001b[0m\u001b[0;34m\u001b[0m\u001b[0;34m\u001b[0m\u001b[0m\n\u001b[0;32m--> 917\u001b[0;31m       \u001b[0;32mreturn\u001b[0m \u001b[0mself\u001b[0m\u001b[0;34m.\u001b[0m\u001b[0m_stateless_fn\u001b[0m\u001b[0;34m(\u001b[0m\u001b[0;34m*\u001b[0m\u001b[0margs\u001b[0m\u001b[0;34m,\u001b[0m \u001b[0;34m**\u001b[0m\u001b[0mkwds\u001b[0m\u001b[0;34m)\u001b[0m  \u001b[0;31m# pylint: disable=not-callable\u001b[0m\u001b[0;34m\u001b[0m\u001b[0;34m\u001b[0m\u001b[0m\n\u001b[0m\u001b[1;32m    918\u001b[0m     \u001b[0;32melif\u001b[0m \u001b[0mself\u001b[0m\u001b[0;34m.\u001b[0m\u001b[0m_stateful_fn\u001b[0m \u001b[0;32mis\u001b[0m \u001b[0;32mnot\u001b[0m \u001b[0;32mNone\u001b[0m\u001b[0;34m:\u001b[0m\u001b[0;34m\u001b[0m\u001b[0;34m\u001b[0m\u001b[0m\n\u001b[1;32m    919\u001b[0m       \u001b[0;31m# Release the lock early so that multiple threads can perform the call\u001b[0m\u001b[0;34m\u001b[0m\u001b[0;34m\u001b[0m\u001b[0;34m\u001b[0m\u001b[0m\n",
            "\u001b[0;32m~/python3.7/lib/python3.7/site-packages/tensorflow/python/eager/function.py\u001b[0m in \u001b[0;36m__call__\u001b[0;34m(self, *args, **kwargs)\u001b[0m\n\u001b[1;32m   3038\u001b[0m        filtered_flat_args) = self._maybe_define_function(args, kwargs)\n\u001b[1;32m   3039\u001b[0m     return graph_function._call_flat(\n\u001b[0;32m-> 3040\u001b[0;31m         filtered_flat_args, captured_inputs=graph_function.captured_inputs)  # pylint: disable=protected-access\n\u001b[0m\u001b[1;32m   3041\u001b[0m \u001b[0;34m\u001b[0m\u001b[0m\n\u001b[1;32m   3042\u001b[0m   \u001b[0;34m@\u001b[0m\u001b[0mproperty\u001b[0m\u001b[0;34m\u001b[0m\u001b[0;34m\u001b[0m\u001b[0m\n",
            "\u001b[0;32m~/python3.7/lib/python3.7/site-packages/tensorflow/python/eager/function.py\u001b[0m in \u001b[0;36m_call_flat\u001b[0;34m(self, args, captured_inputs, cancellation_manager)\u001b[0m\n\u001b[1;32m   1962\u001b[0m       \u001b[0;31m# No tape is watching; skip to running the function.\u001b[0m\u001b[0;34m\u001b[0m\u001b[0;34m\u001b[0m\u001b[0;34m\u001b[0m\u001b[0m\n\u001b[1;32m   1963\u001b[0m       return self._build_call_outputs(self._inference_function.call(\n\u001b[0;32m-> 1964\u001b[0;31m           ctx, args, cancellation_manager=cancellation_manager))\n\u001b[0m\u001b[1;32m   1965\u001b[0m     forward_backward = self._select_forward_and_backward_functions(\n\u001b[1;32m   1966\u001b[0m         \u001b[0margs\u001b[0m\u001b[0;34m,\u001b[0m\u001b[0;34m\u001b[0m\u001b[0;34m\u001b[0m\u001b[0m\n",
            "\u001b[0;32m~/python3.7/lib/python3.7/site-packages/tensorflow/python/eager/function.py\u001b[0m in \u001b[0;36mcall\u001b[0;34m(self, ctx, args, cancellation_manager)\u001b[0m\n\u001b[1;32m    594\u001b[0m               \u001b[0minputs\u001b[0m\u001b[0;34m=\u001b[0m\u001b[0margs\u001b[0m\u001b[0;34m,\u001b[0m\u001b[0;34m\u001b[0m\u001b[0;34m\u001b[0m\u001b[0m\n\u001b[1;32m    595\u001b[0m               \u001b[0mattrs\u001b[0m\u001b[0;34m=\u001b[0m\u001b[0mattrs\u001b[0m\u001b[0;34m,\u001b[0m\u001b[0;34m\u001b[0m\u001b[0;34m\u001b[0m\u001b[0m\n\u001b[0;32m--> 596\u001b[0;31m               ctx=ctx)\n\u001b[0m\u001b[1;32m    597\u001b[0m         \u001b[0;32melse\u001b[0m\u001b[0;34m:\u001b[0m\u001b[0;34m\u001b[0m\u001b[0;34m\u001b[0m\u001b[0m\n\u001b[1;32m    598\u001b[0m           outputs = execute.execute_with_cancellation(\n",
            "\u001b[0;32m~/python3.7/lib/python3.7/site-packages/tensorflow/python/eager/execute.py\u001b[0m in \u001b[0;36mquick_execute\u001b[0;34m(op_name, num_outputs, inputs, attrs, ctx, name)\u001b[0m\n\u001b[1;32m     58\u001b[0m     \u001b[0mctx\u001b[0m\u001b[0;34m.\u001b[0m\u001b[0mensure_initialized\u001b[0m\u001b[0;34m(\u001b[0m\u001b[0;34m)\u001b[0m\u001b[0;34m\u001b[0m\u001b[0;34m\u001b[0m\u001b[0m\n\u001b[1;32m     59\u001b[0m     tensors = pywrap_tfe.TFE_Py_Execute(ctx._handle, device_name, op_name,\n\u001b[0;32m---> 60\u001b[0;31m                                         inputs, attrs, num_outputs)\n\u001b[0m\u001b[1;32m     61\u001b[0m   \u001b[0;32mexcept\u001b[0m \u001b[0mcore\u001b[0m\u001b[0;34m.\u001b[0m\u001b[0m_NotOkStatusException\u001b[0m \u001b[0;32mas\u001b[0m \u001b[0me\u001b[0m\u001b[0;34m:\u001b[0m\u001b[0;34m\u001b[0m\u001b[0;34m\u001b[0m\u001b[0m\n\u001b[1;32m     62\u001b[0m     \u001b[0;32mif\u001b[0m \u001b[0mname\u001b[0m \u001b[0;32mis\u001b[0m \u001b[0;32mnot\u001b[0m \u001b[0;32mNone\u001b[0m\u001b[0;34m:\u001b[0m\u001b[0;34m\u001b[0m\u001b[0;34m\u001b[0m\u001b[0m\n",
            "\u001b[0;31mKeyboardInterrupt\u001b[0m: "
          ]
        }
      ],
      "metadata": {
        "id": "JHP8JIFuy1Xg"
      }
    },
    {
      "cell_type": "code",
      "execution_count": 3,
      "source": [
        "model = tf.keras.models.load_model('/home/ckm/ck_project/codemix/models/self-match-bi-lstm-fasttext')"
      ],
      "outputs": [
        {
          "output_type": "stream",
          "name": "stderr",
          "text": [
            "2021-09-21 10:13:00.276600: I tensorflow/core/platform/cpu_feature_guard.cc:142] This TensorFlow binary is optimized with oneAPI Deep Neural Network Library (oneDNN) to use the following CPU instructions in performance-critical operations:  AVX2 AVX512F FMA\n",
            "To enable them in other operations, rebuild TensorFlow with the appropriate compiler flags.\n",
            "2021-09-21 10:13:00.719108: I tensorflow/core/common_runtime/gpu/gpu_device.cc:1510] Created device /job:localhost/replica:0/task:0/device:GPU:0 with 14642 MB memory:  -> device: 0, name: Tesla V100-PCIE-16GB, pci bus id: 0000:17:00.0, compute capability: 7.0\n"
          ]
        }
      ],
      "metadata": {}
    },
    {
      "cell_type": "code",
      "execution_count": 16,
      "source": [
        "prediction = model.predict(np.array(X_test_data))"
      ],
      "outputs": [
        {
          "output_type": "stream",
          "name": "stderr",
          "text": [
            "2021-09-21 10:14:08.568728: I tensorflow/compiler/mlir/mlir_graph_optimization_pass.cc:185] None of the MLIR Optimization Passes are enabled (registered 2)\n",
            "2021-09-21 10:14:10.036336: I tensorflow/stream_executor/cuda/cuda_dnn.cc:369] Loaded cuDNN version 8202\n"
          ]
        }
      ],
      "metadata": {
        "id": "msuPEjhTzV_O"
      }
    },
    {
      "cell_type": "code",
      "execution_count": 17,
      "source": [
        "prediction[11]"
      ],
      "outputs": [
        {
          "output_type": "execute_result",
          "data": {
            "text/plain": [
              "array([0.95689297, 0.04310703], dtype=float32)"
            ]
          },
          "metadata": {},
          "execution_count": 17
        }
      ],
      "metadata": {
        "id": "nryAmwh39daW"
      }
    },
    {
      "cell_type": "code",
      "execution_count": 18,
      "source": [
        "y_test_pred = np.argmax(prediction,axis=1)"
      ],
      "outputs": [],
      "metadata": {
        "id": "6F-t5PohXmFe"
      }
    },
    {
      "cell_type": "code",
      "execution_count": 19,
      "source": [
        "y_test_pred"
      ],
      "outputs": [
        {
          "output_type": "execute_result",
          "data": {
            "text/plain": [
              "array([0, 1, 0, ..., 0, 1, 0])"
            ]
          },
          "metadata": {},
          "execution_count": 19
        }
      ],
      "metadata": {
        "id": "uDv3ypPs9m8k"
      }
    },
    {
      "cell_type": "code",
      "execution_count": 20,
      "source": [
        "np.array(y_test_labels)"
      ],
      "outputs": [
        {
          "output_type": "execute_result",
          "data": {
            "text/plain": [
              "array([0, 1, 0, ..., 0, 1, 0])"
            ]
          },
          "metadata": {},
          "execution_count": 20
        }
      ],
      "metadata": {
        "id": "nJDH-_iH9uA8"
      }
    },
    {
      "cell_type": "code",
      "execution_count": 21,
      "source": [
        "print(\"precision_score\", precision_score(y_test_labels, y_test_pred, average='micro'))"
      ],
      "outputs": [
        {
          "output_type": "stream",
          "name": "stdout",
          "text": [
            "precision_score 0.8504\n"
          ]
        }
      ],
      "metadata": {
        "id": "GAYZcTGTkpxI"
      }
    },
    {
      "cell_type": "code",
      "execution_count": 22,
      "source": [
        "print(\"recall_score\", recall_score(y_test_labels, y_test_pred, average='micro'))"
      ],
      "outputs": [
        {
          "output_type": "stream",
          "name": "stdout",
          "text": [
            "recall_score 0.8504\n"
          ]
        }
      ],
      "metadata": {
        "id": "kTqeIQz3EyaE"
      }
    },
    {
      "cell_type": "code",
      "execution_count": 23,
      "source": [
        "print(\"f1_score_micro\", f1_score(y_test_labels, y_test_pred, average='micro'))"
      ],
      "outputs": [
        {
          "output_type": "stream",
          "name": "stdout",
          "text": [
            "f1_score_micro 0.8504\n"
          ]
        }
      ],
      "metadata": {
        "id": "ho9n0U5lE0UI"
      }
    },
    {
      "cell_type": "code",
      "execution_count": 24,
      "source": [
        "print(\"f1_score_binary\", f1_score(y_test_labels, y_test_pred, average='binary'))"
      ],
      "outputs": [
        {
          "output_type": "stream",
          "name": "stdout",
          "text": [
            "f1_score_binary 0.8442207566817078\n"
          ]
        }
      ],
      "metadata": {
        "id": "K8Ii_j5AE41x"
      }
    },
    {
      "cell_type": "code",
      "execution_count": 25,
      "source": [
        "print(\"accuracy_score\", accuracy_score(y_test_labels, y_test_pred))"
      ],
      "outputs": [
        {
          "output_type": "stream",
          "name": "stdout",
          "text": [
            "accuracy_score 0.8504\n"
          ]
        }
      ],
      "metadata": {
        "id": "VExnrWdpFBSz"
      }
    },
    {
      "cell_type": "code",
      "execution_count": null,
      "source": [
        "print(\"avg_precison_score\", precision_score(y_test_labels, y_test_pred, average='micro'))"
      ],
      "outputs": [],
      "metadata": {
        "id": "kyQv_u7oFD9L"
      }
    },
    {
      "cell_type": "code",
      "execution_count": null,
      "source": [
        "# try:\n",
        "#   plt.plot(history.history['acc'], label='accuracy')\n",
        "#   plt.plot(history.history['val_acc'], label = 'val_accuracy')\n",
        "#   plt.xlabel('Epoch')\n",
        "#   plt.ylabel('Accuracy')\n",
        "#   plt.ylim([0.5, 1])\n",
        "#   plt.legend(loc='lower right')\n",
        "#   plt.savefig('plot.png')\n",
        "# except:\n",
        "#   plt.plot(history.history['accuracy'], label='accuracy')\n",
        "#   plt.plot(history.history['val_accuracy'], label = 'val_accuracy')\n",
        "#   plt.xlabel('Epoch')\n",
        "#   plt.ylabel('Accuracy')\n",
        "#   plt.ylim([0.5, 1])\n",
        "#   plt.legend(loc='lower right')\n",
        "#   plt.savefig('plot.png')"
      ],
      "outputs": [],
      "metadata": {
        "id": "oo7Q3BPlW80A"
      }
    },
    {
      "cell_type": "code",
      "execution_count": null,
      "source": [
        "model.save('models/self-match-bi-lstm-fasttext')"
      ],
      "outputs": [],
      "metadata": {
        "id": "NLJd1R-9qfbs"
      }
    },
    {
      "cell_type": "code",
      "execution_count": null,
      "source": [],
      "outputs": [],
      "metadata": {
        "id": "phQX9Nww5Hyv"
      }
    }
  ]
}