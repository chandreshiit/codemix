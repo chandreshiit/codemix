{
  "cells": [
    {
      "cell_type": "markdown",
      "metadata": {},
      "source": [
        "Malayalam English Dataset"
      ]
    },
    {
      "cell_type": "markdown",
      "metadata": {
        "id": "YagaAp_xTg6W"
      },
      "source": [
        "### Imports"
      ]
    },
    {
      "cell_type": "code",
      "execution_count": 33,
      "metadata": {},
      "outputs": [
        {
          "name": "stdout",
          "output_type": "stream",
          "text": [
            "Requirement already satisfied: torchtext in /home/ckm/python3.7/lib/python3.7/site-packages (0.11.0)\n",
            "Requirement already satisfied: numpy in /home/ckm/python3.7/lib/python3.7/site-packages (from torchtext) (1.19.5)\n",
            "Requirement already satisfied: requests in /home/ckm/python3.7/lib/python3.7/site-packages (from torchtext) (2.26.0)\n",
            "Requirement already satisfied: torch==1.10.0 in /home/ckm/python3.7/lib/python3.7/site-packages (from torchtext) (1.10.0)\n",
            "Requirement already satisfied: tqdm in /home/ckm/python3.7/lib/python3.7/site-packages (from torchtext) (4.62.2)\n",
            "Requirement already satisfied: typing-extensions in /home/ckm/python3.7/lib/python3.7/site-packages (from torch==1.10.0->torchtext) (3.7.4.3)\n",
            "Requirement already satisfied: urllib3<1.27,>=1.21.1 in /home/ckm/python3.7/lib/python3.7/site-packages (from requests->torchtext) (1.26.6)\n",
            "Requirement already satisfied: charset-normalizer~=2.0.0 in /home/ckm/python3.7/lib/python3.7/site-packages (from requests->torchtext) (2.0.6)\n",
            "Requirement already satisfied: idna<4,>=2.5 in /home/ckm/python3.7/lib/python3.7/site-packages (from requests->torchtext) (3.2)\n",
            "Requirement already satisfied: certifi>=2017.4.17 in /home/ckm/python3.7/lib/python3.7/site-packages (from requests->torchtext) (2021.5.30)\n",
            "\u001b[33mWARNING: You are using pip version 21.2.4; however, version 21.3.1 is available.\n",
            "You should consider upgrading via the '/home/ckm/python3.7/bin/python3.7 -m pip install --upgrade pip' command.\u001b[0m\n"
          ]
        }
      ],
      "source": [
        "!pip install torchtext"
      ]
    },
    {
      "cell_type": "code",
      "execution_count": 1,
      "metadata": {
        "id": "PSSRsC1fNADr"
      },
      "outputs": [],
      "source": [
        "import os\n",
        "import math\n",
        "import numpy as np\n",
        "import pandas as pd\n",
        "from torchtext.data.utils import get_tokenizer\n",
        "from torch.nn.utils.rnn import pad_sequence\n",
        "from tqdm import tqdm\n",
        "from time import sleep\n",
        "\n",
        "\n",
        "import torch\n",
        "import torch.nn as nn\n",
        "import torch.nn.functional as F\n",
        "from torch.optim import Adam\n",
        "\n",
        "from sklearn.metrics import f1_score\n",
        "from sklearn.metrics import precision_score\n",
        "from sklearn.metrics import recall_score\n",
        "from sklearn.metrics import accuracy_score\n",
        "from sklearn.metrics import confusion_matrix\n",
        "from sklearn.utils import shuffle\n",
        "\n",
        "import matplotlib.pyplot as plt"
      ]
    },
    {
      "cell_type": "code",
      "execution_count": 2,
      "metadata": {
        "colab": {
          "base_uri": "https://localhost:8080/"
        },
        "id": "Muafgoq3zdah",
        "outputId": "cd656d64-7473-458b-a6ed-4d04a16d7ab9"
      },
      "outputs": [
        {
          "name": "stdout",
          "output_type": "stream",
          "text": [
            "cuda:0\n"
          ]
        }
      ],
      "source": [
        "device = torch.device('cuda:0' if torch.cuda.is_available() else 'cpu')\n",
        "print(device)"
      ]
    },
    {
      "cell_type": "code",
      "execution_count": 3,
      "metadata": {},
      "outputs": [
        {
          "name": "stdout",
          "output_type": "stream",
          "text": [
            "Mon Nov 15 11:03:04 2021       \n",
            "+-----------------------------------------------------------------------------+\n",
            "| NVIDIA-SMI 470.82.00    Driver Version: 470.82.00    CUDA Version: 11.4     |\n",
            "|-------------------------------+----------------------+----------------------+\n",
            "| GPU  Name        Persistence-M| Bus-Id        Disp.A | Volatile Uncorr. ECC |\n",
            "| Fan  Temp  Perf  Pwr:Usage/Cap|         Memory-Usage | GPU-Util  Compute M. |\n",
            "|                               |                      |               MIG M. |\n",
            "|===============================+======================+======================|\n",
            "|   0  Tesla V100-PCIE...  Off  | 00000000:17:00.0 Off |                    0 |\n",
            "| N/A   56C    P0    45W / 250W |    311MiB / 16160MiB |      0%      Default |\n",
            "|                               |                      |                  N/A |\n",
            "+-------------------------------+----------------------+----------------------+\n",
            "                                                                               \n",
            "+-----------------------------------------------------------------------------+\n",
            "| Processes:                                                                  |\n",
            "|  GPU   GI   CI        PID   Type   Process name                  GPU Memory |\n",
            "|        ID   ID                                                   Usage      |\n",
            "|=============================================================================|\n",
            "|    0   N/A  N/A      1090      G   /usr/lib/xorg/Xorg                  4MiB |\n",
            "|    0   N/A  N/A     13516      C   ...ffice/program/soffice.bin      303MiB |\n",
            "+-----------------------------------------------------------------------------+\n",
            "WARNING: infoROM is corrupted at gpu 0000:17:00.0\n"
          ]
        }
      ],
      "source": [
        "!nvidia-smi"
      ]
    },
    {
      "cell_type": "markdown",
      "metadata": {
        "id": "N4B0ARAXTkLp"
      },
      "source": [
        "### Load embedding"
      ]
    },
    {
      "cell_type": "code",
      "execution_count": 37,
      "metadata": {
        "id": "HzzoO4vmNW1V"
      },
      "outputs": [],
      "source": [
        "datapath = \"/home/ckm/ck_project/data/MalayalmEnglishSentiments/\"\n",
        "df_embedding = pd.read_csv(datapath+\"mal_eng_emb\", sep=\" \", quoting=3, header=None, index_col=0,skiprows=1)"
      ]
    },
    {
      "cell_type": "code",
      "execution_count": 38,
      "metadata": {},
      "outputs": [
        {
          "data": {
            "text/html": [
              "<div>\n",
              "<style scoped>\n",
              "    .dataframe tbody tr th:only-of-type {\n",
              "        vertical-align: middle;\n",
              "    }\n",
              "\n",
              "    .dataframe tbody tr th {\n",
              "        vertical-align: top;\n",
              "    }\n",
              "\n",
              "    .dataframe thead th {\n",
              "        text-align: right;\n",
              "    }\n",
              "</style>\n",
              "<table border=\"1\" class=\"dataframe\">\n",
              "  <thead>\n",
              "    <tr style=\"text-align: right;\">\n",
              "      <th></th>\n",
              "      <th>1</th>\n",
              "      <th>2</th>\n",
              "      <th>3</th>\n",
              "      <th>4</th>\n",
              "      <th>5</th>\n",
              "      <th>6</th>\n",
              "      <th>7</th>\n",
              "      <th>8</th>\n",
              "      <th>9</th>\n",
              "      <th>10</th>\n",
              "      <th>...</th>\n",
              "      <th>91</th>\n",
              "      <th>92</th>\n",
              "      <th>93</th>\n",
              "      <th>94</th>\n",
              "      <th>95</th>\n",
              "      <th>96</th>\n",
              "      <th>97</th>\n",
              "      <th>98</th>\n",
              "      <th>99</th>\n",
              "      <th>100</th>\n",
              "    </tr>\n",
              "    <tr>\n",
              "      <th>0</th>\n",
              "      <th></th>\n",
              "      <th></th>\n",
              "      <th></th>\n",
              "      <th></th>\n",
              "      <th></th>\n",
              "      <th></th>\n",
              "      <th></th>\n",
              "      <th></th>\n",
              "      <th></th>\n",
              "      <th></th>\n",
              "      <th></th>\n",
              "      <th></th>\n",
              "      <th></th>\n",
              "      <th></th>\n",
              "      <th></th>\n",
              "      <th></th>\n",
              "      <th></th>\n",
              "      <th></th>\n",
              "      <th></th>\n",
              "      <th></th>\n",
              "      <th></th>\n",
              "    </tr>\n",
              "  </thead>\n",
              "  <tbody>\n",
              "    <tr>\n",
              "      <th>like</th>\n",
              "      <td>-0.071869</td>\n",
              "      <td>0.275370</td>\n",
              "      <td>-0.071923</td>\n",
              "      <td>0.032835</td>\n",
              "      <td>0.199517</td>\n",
              "      <td>0.160000</td>\n",
              "      <td>-0.159244</td>\n",
              "      <td>0.026283</td>\n",
              "      <td>0.343170</td>\n",
              "      <td>0.352353</td>\n",
              "      <td>...</td>\n",
              "      <td>0.145661</td>\n",
              "      <td>0.047930</td>\n",
              "      <td>0.269013</td>\n",
              "      <td>-0.226423</td>\n",
              "      <td>-0.122173</td>\n",
              "      <td>-0.181215</td>\n",
              "      <td>0.034296</td>\n",
              "      <td>0.128978</td>\n",
              "      <td>-0.141020</td>\n",
              "      <td>-0.143799</td>\n",
              "    </tr>\n",
              "    <tr>\n",
              "      <th>oru</th>\n",
              "      <td>-0.077830</td>\n",
              "      <td>0.266342</td>\n",
              "      <td>-0.074621</td>\n",
              "      <td>0.033034</td>\n",
              "      <td>0.198433</td>\n",
              "      <td>0.159149</td>\n",
              "      <td>-0.159517</td>\n",
              "      <td>0.021624</td>\n",
              "      <td>0.346139</td>\n",
              "      <td>0.352183</td>\n",
              "      <td>...</td>\n",
              "      <td>0.139258</td>\n",
              "      <td>0.042647</td>\n",
              "      <td>0.274619</td>\n",
              "      <td>-0.225015</td>\n",
              "      <td>-0.124942</td>\n",
              "      <td>-0.182240</td>\n",
              "      <td>0.036177</td>\n",
              "      <td>0.136150</td>\n",
              "      <td>-0.133971</td>\n",
              "      <td>-0.136864</td>\n",
              "    </tr>\n",
              "    <tr>\n",
              "      <th>trailer</th>\n",
              "      <td>-0.074339</td>\n",
              "      <td>0.276567</td>\n",
              "      <td>-0.075053</td>\n",
              "      <td>0.036022</td>\n",
              "      <td>0.206773</td>\n",
              "      <td>0.164624</td>\n",
              "      <td>-0.159937</td>\n",
              "      <td>0.022718</td>\n",
              "      <td>0.350942</td>\n",
              "      <td>0.356257</td>\n",
              "      <td>...</td>\n",
              "      <td>0.146939</td>\n",
              "      <td>0.046356</td>\n",
              "      <td>0.279289</td>\n",
              "      <td>-0.230388</td>\n",
              "      <td>-0.132882</td>\n",
              "      <td>-0.184771</td>\n",
              "      <td>0.033757</td>\n",
              "      <td>0.134053</td>\n",
              "      <td>-0.137140</td>\n",
              "      <td>-0.141513</td>\n",
              "    </tr>\n",
              "    <tr>\n",
              "      <th>fans</th>\n",
              "      <td>-0.076445</td>\n",
              "      <td>0.272194</td>\n",
              "      <td>-0.076098</td>\n",
              "      <td>0.033571</td>\n",
              "      <td>0.199238</td>\n",
              "      <td>0.159381</td>\n",
              "      <td>-0.161973</td>\n",
              "      <td>0.020347</td>\n",
              "      <td>0.344558</td>\n",
              "      <td>0.354843</td>\n",
              "      <td>...</td>\n",
              "      <td>0.140745</td>\n",
              "      <td>0.042472</td>\n",
              "      <td>0.277846</td>\n",
              "      <td>-0.223677</td>\n",
              "      <td>-0.124965</td>\n",
              "      <td>-0.186585</td>\n",
              "      <td>0.031947</td>\n",
              "      <td>0.131690</td>\n",
              "      <td>-0.138251</td>\n",
              "      <td>-0.138841</td>\n",
              "    </tr>\n",
              "    <tr>\n",
              "      <th>ikka</th>\n",
              "      <td>-0.073600</td>\n",
              "      <td>0.267904</td>\n",
              "      <td>-0.076091</td>\n",
              "      <td>0.032226</td>\n",
              "      <td>0.196860</td>\n",
              "      <td>0.157712</td>\n",
              "      <td>-0.166063</td>\n",
              "      <td>0.018810</td>\n",
              "      <td>0.339874</td>\n",
              "      <td>0.351412</td>\n",
              "      <td>...</td>\n",
              "      <td>0.135749</td>\n",
              "      <td>0.043580</td>\n",
              "      <td>0.276364</td>\n",
              "      <td>-0.222802</td>\n",
              "      <td>-0.128295</td>\n",
              "      <td>-0.188228</td>\n",
              "      <td>0.034005</td>\n",
              "      <td>0.132371</td>\n",
              "      <td>-0.137775</td>\n",
              "      <td>-0.142165</td>\n",
              "    </tr>\n",
              "  </tbody>\n",
              "</table>\n",
              "<p>5 rows × 100 columns</p>\n",
              "</div>"
            ],
            "text/plain": [
              "              1         2         3         4         5         6         7    \\\n",
              "0                                                                               \n",
              "like    -0.071869  0.275370 -0.071923  0.032835  0.199517  0.160000 -0.159244   \n",
              "oru     -0.077830  0.266342 -0.074621  0.033034  0.198433  0.159149 -0.159517   \n",
              "trailer -0.074339  0.276567 -0.075053  0.036022  0.206773  0.164624 -0.159937   \n",
              "fans    -0.076445  0.272194 -0.076098  0.033571  0.199238  0.159381 -0.161973   \n",
              "ikka    -0.073600  0.267904 -0.076091  0.032226  0.196860  0.157712 -0.166063   \n",
              "\n",
              "              8         9         10   ...       91        92        93   \\\n",
              "0                                      ...                                 \n",
              "like     0.026283  0.343170  0.352353  ...  0.145661  0.047930  0.269013   \n",
              "oru      0.021624  0.346139  0.352183  ...  0.139258  0.042647  0.274619   \n",
              "trailer  0.022718  0.350942  0.356257  ...  0.146939  0.046356  0.279289   \n",
              "fans     0.020347  0.344558  0.354843  ...  0.140745  0.042472  0.277846   \n",
              "ikka     0.018810  0.339874  0.351412  ...  0.135749  0.043580  0.276364   \n",
              "\n",
              "              94        95        96        97        98        99        100  \n",
              "0                                                                              \n",
              "like    -0.226423 -0.122173 -0.181215  0.034296  0.128978 -0.141020 -0.143799  \n",
              "oru     -0.225015 -0.124942 -0.182240  0.036177  0.136150 -0.133971 -0.136864  \n",
              "trailer -0.230388 -0.132882 -0.184771  0.033757  0.134053 -0.137140 -0.141513  \n",
              "fans    -0.223677 -0.124965 -0.186585  0.031947  0.131690 -0.138251 -0.138841  \n",
              "ikka    -0.222802 -0.128295 -0.188228  0.034005  0.132371 -0.137775 -0.142165  \n",
              "\n",
              "[5 rows x 100 columns]"
            ]
          },
          "execution_count": 38,
          "metadata": {},
          "output_type": "execute_result"
        }
      ],
      "source": [
        "df_embedding.head()"
      ]
    },
    {
      "cell_type": "markdown",
      "metadata": {
        "id": "wJaOLL02TmUy"
      },
      "source": [
        "### Create vocab dictionary"
      ]
    },
    {
      "cell_type": "code",
      "execution_count": 39,
      "metadata": {
        "colab": {
          "base_uri": "https://localhost:8080/"
        },
        "id": "456blVxHEqJK",
        "outputId": "1fabfa5e-e9db-40dc-ab0d-d166d43011d8"
      },
      "outputs": [
        {
          "data": {
            "text/plain": [
              "(1109, 100)"
            ]
          },
          "execution_count": 39,
          "metadata": {},
          "output_type": "execute_result"
        }
      ],
      "source": [
        "m = df_embedding.to_numpy()\n",
        "m.shape"
      ]
    },
    {
      "cell_type": "code",
      "execution_count": 40,
      "metadata": {
        "colab": {
          "base_uri": "https://localhost:8080/"
        },
        "id": "cKURV7-5NXfE",
        "outputId": "aa55221f-8b72-43cf-ead5-c93cc46fc391"
      },
      "outputs": [
        {
          "data": {
            "text/plain": [
              "(1109, 100)"
            ]
          },
          "execution_count": 40,
          "metadata": {},
          "output_type": "execute_result"
        }
      ],
      "source": [
        "embedding_matrix = df_embedding.to_numpy()\n",
        "\n",
        "vocab = []\n",
        "\n",
        "for word in list(df_embedding.index):\n",
        "  vocab.append(str(word))\n",
        "\n",
        "vocab_size , vocab_dim = embedding_matrix.shape\n",
        "vocab_size, vocab_dim"
      ]
    },
    {
      "cell_type": "code",
      "execution_count": 41,
      "metadata": {
        "colab": {
          "base_uri": "https://localhost:8080/"
        },
        "id": "PMHZGs3aFF6b",
        "outputId": "a2d76acf-4109-40cb-f952-a38c12680201"
      },
      "outputs": [
        {
          "data": {
            "text/plain": [
              "1109"
            ]
          },
          "execution_count": 41,
          "metadata": {},
          "output_type": "execute_result"
        }
      ],
      "source": [
        "len(vocab)"
      ]
    },
    {
      "cell_type": "code",
      "execution_count": 42,
      "metadata": {
        "id": "Rju-5mvbVp6H"
      },
      "outputs": [],
      "source": [
        "word2idx = {w: idx for (idx, w) in enumerate(vocab)}\n",
        "idx2word = {idx: w for (idx, w) in enumerate(vocab)}"
      ]
    },
    {
      "cell_type": "code",
      "execution_count": 43,
      "metadata": {
        "colab": {
          "base_uri": "https://localhost:8080/"
        },
        "id": "rY77Ru_NFMMs",
        "outputId": "45e84371-3f06-494c-dfb6-4ec87e2edd77"
      },
      "outputs": [
        {
          "data": {
            "text/plain": [
              "(1109, 1109)"
            ]
          },
          "execution_count": 43,
          "metadata": {},
          "output_type": "execute_result"
        }
      ],
      "source": [
        "len(word2idx) , len(idx2word)"
      ]
    },
    {
      "cell_type": "code",
      "execution_count": 44,
      "metadata": {
        "colab": {
          "base_uri": "https://localhost:8080/"
        },
        "id": "FBRDCquFF62W",
        "outputId": "ce912395-b2d0-479c-d114-549f630f681d"
      },
      "outputs": [
        {
          "data": {
            "text/plain": [
              "{'like': 0,\n",
              " 'oru': 1,\n",
              " 'trailer': 2,\n",
              " 'fans': 3,\n",
              " 'ikka': 4,\n",
              " 'padam': 5,\n",
              " 'mass': 6,\n",
              " 'Trailer': 7,\n",
              " 'movie': 8,\n",
              " 'waiting': 9}"
            ]
          },
          "execution_count": 44,
          "metadata": {},
          "output_type": "execute_result"
        }
      ],
      "source": [
        "import itertools\n",
        "dict(itertools.islice(word2idx.items(), 10))"
      ]
    },
    {
      "cell_type": "markdown",
      "metadata": {
        "id": "He0HS8bPTqWq"
      },
      "source": [
        "### Read data"
      ]
    },
    {
      "cell_type": "code",
      "execution_count": 45,
      "metadata": {
        "colab": {
          "base_uri": "https://localhost:8080/"
        },
        "id": "aSukKoeeNvSs",
        "outputId": "ac5d640e-fe25-4325-8fd9-cda5c59e06d6"
      },
      "outputs": [
        {
          "name": "stdout",
          "output_type": "stream",
          "text": [
            "4000 4000\n",
            "400 400\n",
            "451 451\n"
          ]
        }
      ],
      "source": [
        "df = pd.read_csv('/home/ckm/ck_project/data/MalayalmEnglishSentiments/Malayalam_English_Data.csv')\n",
        "\n",
        "df= df.sample(frac = 1)\n",
        "\n",
        "train_df = df[:4000]\n",
        "val_df = df[4000:4400]\n",
        "test_df = df[4400:]\n",
        "\n",
        "train_df.head()\n",
        "\n",
        "train_data =  train_df['text'].values\n",
        "train_labels = train_df['category'].values\n",
        "\n",
        "val_data =  val_df['text'].values\n",
        "val_labels = val_df['category'].values\n",
        "\n",
        "test_data =  test_df['text'].values\n",
        "test_labels = test_df['category'].values\n",
        "\n",
        "print(len(train_data), len(train_labels))\n",
        "print(len(val_data), len(val_labels))\n",
        "print(len(test_data), len(test_labels))\n"
      ]
    },
    {
      "cell_type": "code",
      "execution_count": 46,
      "metadata": {
        "colab": {
          "base_uri": "https://localhost:8080/",
          "height": 206
        },
        "id": "FMJNuKrDn-xb",
        "outputId": "0d136085-6d5e-44c5-c7ae-13f046263e35"
      },
      "outputs": [
        {
          "data": {
            "text/html": [
              "<div>\n",
              "<style scoped>\n",
              "    .dataframe tbody tr th:only-of-type {\n",
              "        vertical-align: middle;\n",
              "    }\n",
              "\n",
              "    .dataframe tbody tr th {\n",
              "        vertical-align: top;\n",
              "    }\n",
              "\n",
              "    .dataframe thead th {\n",
              "        text-align: right;\n",
              "    }\n",
              "</style>\n",
              "<table border=\"1\" class=\"dataframe\">\n",
              "  <thead>\n",
              "    <tr style=\"text-align: right;\">\n",
              "      <th></th>\n",
              "      <th>Unnamed: 0</th>\n",
              "      <th>text</th>\n",
              "      <th>category</th>\n",
              "    </tr>\n",
              "  </thead>\n",
              "  <tbody>\n",
              "    <tr>\n",
              "      <th>3637</th>\n",
              "      <td>3637</td>\n",
              "      <td>Oru njettalum illa romanjavum illa ayye</td>\n",
              "      <td>4</td>\n",
              "    </tr>\n",
              "    <tr>\n",
              "      <th>3169</th>\n",
              "      <td>3169</td>\n",
              "      <td>Adhu ennavo namma Tamizh rasigalukku MAMMOOTT...</td>\n",
              "      <td>1</td>\n",
              "    </tr>\n",
              "    <tr>\n",
              "      <th>2840</th>\n",
              "      <td>2840</td>\n",
              "      <td>Suraj ettan vere level...  1:01  Soubin ikka ...</td>\n",
              "      <td>0</td>\n",
              "    </tr>\n",
              "    <tr>\n",
              "      <th>1217</th>\n",
              "      <td>1217</td>\n",
              "      <td>പടം പൊളിക്കും HBD mammokka       By Die hard ...</td>\n",
              "      <td>0</td>\n",
              "    </tr>\n",
              "    <tr>\n",
              "      <th>3507</th>\n",
              "      <td>3507</td>\n",
              "      <td>Urutaam enna dialogue parayenda tone sheriyal...</td>\n",
              "      <td>3</td>\n",
              "    </tr>\n",
              "  </tbody>\n",
              "</table>\n",
              "</div>"
            ],
            "text/plain": [
              "      Unnamed: 0                                               text  category\n",
              "3637        3637            Oru njettalum illa romanjavum illa ayye         4\n",
              "3169        3169   Adhu ennavo namma Tamizh rasigalukku MAMMOOTT...         1\n",
              "2840        2840   Suraj ettan vere level...  1:01  Soubin ikka ...         0\n",
              "1217        1217   പടം പൊളിക്കും HBD mammokka       By Die hard ...         0\n",
              "3507        3507   Urutaam enna dialogue parayenda tone sheriyal...         3"
            ]
          },
          "execution_count": 46,
          "metadata": {},
          "output_type": "execute_result"
        }
      ],
      "source": [
        "df.head()"
      ]
    },
    {
      "cell_type": "code",
      "execution_count": 47,
      "metadata": {
        "id": "83AlL80DN1_5"
      },
      "outputs": [],
      "source": [
        "\n",
        "# post = pd.read_csv(\"positive_add1and2.csv\",sep=',')\n",
        "# neg = pd.read_csv(\"negative_add_1and2.csv\",sep=',')\n",
        "\n",
        "# data = []\n",
        "# labels = []\n",
        "\n",
        "# for index, row in post.iterrows():\n",
        "#   if index >= 30000:\n",
        "#     break\n",
        "  \n",
        "#   comment = str(row['tweet'])\n",
        "#   data.append(comment)\n",
        "#   labels.append(1)\n",
        "\n",
        "\n",
        "# for index, row in neg.iterrows():\n",
        "#   if index >= 30000:\n",
        "#     break\n",
        "  \n",
        "#   comment = str(row['tweet'])\n",
        "#   data.append(comment)\n",
        "#   labels.append(0)\n",
        "  \n",
        "\n",
        "# len(data), len(labels)\n",
        "\n",
        "# data, labels  = shuffle(data, labels, random_state = 40)\n",
        "\n",
        "# data[0], labels[0]"
      ]
    },
    {
      "cell_type": "markdown",
      "metadata": {
        "id": "u5iYXAJbTwJ8"
      },
      "source": [
        "### Tokenizer"
      ]
    },
    {
      "cell_type": "code",
      "execution_count": 48,
      "metadata": {
        "id": "QgF5Hb8weYwB"
      },
      "outputs": [],
      "source": [
        "tokenizer = get_tokenizer('basic_english')\n",
        "\n",
        "\n",
        "def tokenized_tensor(data):\n",
        "\n",
        "  output_tokenized = []\n",
        "\n",
        "  for sentence in data:\n",
        "    output = []\n",
        "    tokenized = tokenizer(sentence)\n",
        "    \n",
        "    for word in tokenized:\n",
        "      if word in word2idx:\n",
        "        id = word2idx[word]\n",
        "        output.append(id)\n",
        "      else:\n",
        "        word2idx[word] = len(word2idx)\n",
        "        id = word2idx[word]\n",
        "        output.append(id)\n",
        "\n",
        "    output = torch.tensor(output)\n",
        "\n",
        "\n",
        "    output_tokenized.append(output)\n",
        "\n",
        "  return output_tokenized"
      ]
    },
    {
      "cell_type": "code",
      "execution_count": 49,
      "metadata": {
        "id": "K_pDpPLhiUPG"
      },
      "outputs": [],
      "source": [
        "# tokenized_sequences = tokenized_tensor(data)\n",
        "\n",
        "train_tokenized_sequences = tokenized_tensor(train_data)\n",
        "\n",
        "test_tokenized_seuqences = tokenized_tensor(test_data)\n",
        "\n",
        "val_tokenized_seuquences = tokenized_tensor(val_data)\n"
      ]
    },
    {
      "cell_type": "markdown",
      "metadata": {},
      "source": []
    },
    {
      "cell_type": "code",
      "execution_count": 50,
      "metadata": {
        "colab": {
          "base_uri": "https://localhost:8080/"
        },
        "id": "J6WOxrifIFKQ",
        "outputId": "ef207cd4-55fc-456f-bc8e-adaadbe1cc96"
      },
      "outputs": [
        {
          "name": "stdout",
          "output_type": "stream",
          "text": [
            "tensor([1112, 1113, 1114, 1115, 1116,  349,  114,  654, 1117, 1118])\n"
          ]
        }
      ],
      "source": [
        "print(train_tokenized_sequences[1])"
      ]
    },
    {
      "cell_type": "code",
      "execution_count": 51,
      "metadata": {
        "colab": {
          "base_uri": "https://localhost:8080/"
        },
        "id": "poFrSB5Opl1-",
        "outputId": "0bad193a-cf73-4f71-e6e9-509bfec95058"
      },
      "outputs": [
        {
          "data": {
            "text/plain": [
              "13510"
            ]
          },
          "execution_count": 51,
          "metadata": {},
          "output_type": "execute_result"
        }
      ],
      "source": [
        "word2idx['<PAD>'] = len(word2idx)\n",
        "word2idx['<PAD>']"
      ]
    },
    {
      "cell_type": "code",
      "execution_count": 52,
      "metadata": {
        "colab": {
          "base_uri": "https://localhost:8080/"
        },
        "id": "D9AZYccLbVof",
        "outputId": "bf73d6d9-113b-4880-9a85-a27c29d13ae9"
      },
      "outputs": [
        {
          "data": {
            "text/plain": [
              "13511"
            ]
          },
          "execution_count": 52,
          "metadata": {},
          "output_type": "execute_result"
        }
      ],
      "source": [
        "len(word2idx)"
      ]
    },
    {
      "cell_type": "code",
      "execution_count": 53,
      "metadata": {
        "id": "GYstutbgrABv"
      },
      "outputs": [],
      "source": [
        "## Create embedding matrix\n",
        "\n",
        "random_init = torch.nn.Parameter(torch.Tensor( (len(word2idx) - vocab_size), vocab_dim))\n",
        "torch.nn.init.kaiming_uniform_(random_init, a=math.sqrt(5))\n",
        "\n",
        "\n",
        "new_matrix = np.zeros( (len(word2idx), vocab_dim) )\n",
        "\n",
        "new_matrix[:vocab_size, :] = embedding_matrix\n",
        "\n",
        "embedding_matrix = new_matrix\n",
        "\n",
        "embedding_matrix[vocab_size:, :] = random_init.detach().numpy()"
      ]
    },
    {
      "cell_type": "code",
      "execution_count": 54,
      "metadata": {
        "colab": {
          "base_uri": "https://localhost:8080/"
        },
        "id": "-v0mL0x6J3KV",
        "outputId": "32d4bf4d-7ec2-4085-fce3-6c7b82f0922a"
      },
      "outputs": [
        {
          "data": {
            "text/plain": [
              "(13511, 100)"
            ]
          },
          "execution_count": 54,
          "metadata": {},
          "output_type": "execute_result"
        }
      ],
      "source": [
        "embedding_matrix.shape"
      ]
    },
    {
      "cell_type": "code",
      "execution_count": 55,
      "metadata": {
        "id": "3cp0nnNdrazK"
      },
      "outputs": [],
      "source": [
        "# padded_sequences = pad_sequence(tokenized_sequences, batch_first= True, padding_value=107512)\n",
        "\n",
        "train_padded_sequences = pad_sequence(train_tokenized_sequences, batch_first= True, padding_value=word2idx['<PAD>'])\n",
        "\n",
        "val_padded_sequences = pad_sequence(val_tokenized_seuquences, batch_first= True, padding_value=word2idx['<PAD>'])\n",
        "\n",
        "test_padded_sequences = pad_sequence(test_tokenized_seuqences, batch_first= True, padding_value=word2idx['<PAD>'])"
      ]
    },
    {
      "cell_type": "code",
      "execution_count": 56,
      "metadata": {
        "colab": {
          "base_uri": "https://localhost:8080/"
        },
        "id": "Trl1D4QFII3e",
        "outputId": "281787e8-4bbd-4b9c-dea0-6f937b0b3f9a"
      },
      "outputs": [
        {
          "data": {
            "text/plain": [
              "tensor([ 1112,  1113,  1114,  1115,  1116,   349,   114,   654,  1117,  1118,\n",
              "        13510, 13510, 13510, 13510, 13510, 13510, 13510, 13510, 13510, 13510,\n",
              "        13510, 13510, 13510, 13510, 13510, 13510, 13510, 13510, 13510, 13510,\n",
              "        13510, 13510, 13510, 13510, 13510, 13510, 13510, 13510, 13510, 13510,\n",
              "        13510, 13510, 13510, 13510, 13510, 13510, 13510, 13510, 13510, 13510,\n",
              "        13510, 13510, 13510, 13510, 13510, 13510, 13510, 13510, 13510, 13510,\n",
              "        13510])"
            ]
          },
          "execution_count": 56,
          "metadata": {},
          "output_type": "execute_result"
        }
      ],
      "source": [
        "(train_padded_sequences[1])"
      ]
    },
    {
      "cell_type": "markdown",
      "metadata": {
        "id": "lSE4xlb2O8Ju"
      },
      "source": [
        "### Dataset and Data loader "
      ]
    },
    {
      "cell_type": "code",
      "execution_count": 57,
      "metadata": {
        "id": "ISg-6szPOBr1"
      },
      "outputs": [],
      "source": [
        "class Dataset(torch.utils.data.Dataset):\n",
        "    \"\"\"\n",
        "    This is our custom dataset class which will load the text and their corresponding labels into Pytorch tensors\n",
        "    \"\"\"\n",
        "    def __init__(self, sequences, labels):\n",
        "        self.labels = labels\n",
        "        self.sequences = sequences\n",
        "\n",
        "    def __getitem__(self, idx):\n",
        "        sample = {}\n",
        "        sequence = self.sequences[idx]\n",
        "        label = torch.tensor(self.labels[idx])\n",
        "\n",
        "        try:\n",
        "            sample[\"label\"] = label\n",
        "            sample[\"token\"] = sequence\n",
        "        except Exception as e:\n",
        "            print(e)\n",
        "        \n",
        "        return sample\n",
        "    \n",
        "    def __len__(self):\n",
        "        return len(self.labels)\n",
        "        "
      ]
    },
    {
      "cell_type": "code",
      "execution_count": 58,
      "metadata": {
        "id": "L1LEy0ogII3g"
      },
      "outputs": [],
      "source": [
        "train_dataset = Dataset(train_padded_sequences, train_labels)\n",
        "\n",
        "val_dataset = Dataset(val_padded_sequences, val_labels)\n",
        "\n",
        "test_dataset = Dataset(test_padded_sequences, test_labels)"
      ]
    },
    {
      "cell_type": "markdown",
      "metadata": {
        "id": "vBQVUtYvII3g"
      },
      "source": [
        "### Hyper parameters"
      ]
    },
    {
      "cell_type": "code",
      "execution_count": null,
      "metadata": {
        "id": "CC2nFBOTynbR"
      },
      "outputs": [],
      "source": []
    },
    {
      "cell_type": "code",
      "execution_count": 59,
      "metadata": {
        "id": "ENWuqJHeII3h"
      },
      "outputs": [],
      "source": [
        "## Hyper parameter\n",
        "\n",
        "vocab_size = len(word2idx)\n",
        "embed_dim = vocab_dim\n",
        "seq_len = 50\n",
        "hidden_size = 512\n",
        "num_layer = 3\n",
        "num_class = 7\n",
        "batch_size = 32\n",
        "\n",
        "LEARNING_RATE = 1e-3\n",
        "EPOCHS = 30\n",
        "CLIP = 0.3"
      ]
    },
    {
      "cell_type": "code",
      "execution_count": 60,
      "metadata": {
        "id": "R2daJrk6PQb7"
      },
      "outputs": [],
      "source": [
        "# # Create datasets\n",
        "# dataset = Dataset(padded_sequences, labels)\n",
        "\n",
        "# split = 0.85\n",
        "# train_size = int(split*len(dataset))\n",
        "# val_size = len(dataset) - train_size\n",
        "\n",
        "# train_dataset, val_dataset = torch.utils.data.random_split(dataset, [train_size, val_size])"
      ]
    },
    {
      "cell_type": "code",
      "execution_count": 61,
      "metadata": {
        "id": "LSYO1yrqPSgn"
      },
      "outputs": [],
      "source": [
        "\n",
        "## We call the dataloader class\n",
        "train_loader = torch.utils.data.DataLoader(\n",
        "    train_dataset,\n",
        "    batch_size=batch_size,\n",
        "    pin_memory=True,\n",
        "    num_workers=2,\n",
        "    shuffle=True,\n",
        "    drop_last=True\n",
        " )\n",
        "\n",
        "val_loader = torch.utils.data.DataLoader(\n",
        "    val_dataset,\n",
        "    batch_size=batch_size,\n",
        "    pin_memory=True,\n",
        "    num_workers=2,\n",
        "    shuffle=True,\n",
        "    drop_last=True\n",
        " )\n",
        "\n",
        "## For testing\n",
        "test_loader = torch.utils.data.DataLoader(\n",
        "    test_dataset,\n",
        "    batch_size=batch_size,\n",
        "    pin_memory=True,\n",
        "    num_workers=2,\n",
        "    shuffle=True,\n",
        "    drop_last=True\n",
        " )\n",
        "\n",
        "\n",
        "dataloaders = {'Train': train_loader, 'Val': val_loader}\n",
        "\n"
      ]
    },
    {
      "cell_type": "code",
      "execution_count": 62,
      "metadata": {
        "colab": {
          "base_uri": "https://localhost:8080/"
        },
        "id": "D7ZYd39BII3i",
        "outputId": "3a10a91c-2116-4ada-e1f6-e3abc17ea147"
      },
      "outputs": [
        {
          "data": {
            "text/plain": [
              "(125, 12, 14)"
            ]
          },
          "execution_count": 62,
          "metadata": {},
          "output_type": "execute_result"
        }
      ],
      "source": [
        "len(train_loader), len(val_loader), len(test_loader)"
      ]
    },
    {
      "cell_type": "code",
      "execution_count": 63,
      "metadata": {
        "colab": {
          "base_uri": "https://localhost:8080/"
        },
        "id": "NoA6yF7iomTV",
        "outputId": "418e1523-d735-4082-f963-16580e8ea844"
      },
      "outputs": [
        {
          "name": "stdout",
          "output_type": "stream",
          "text": [
            "44\n"
          ]
        }
      ],
      "source": [
        "max_len = -1\n",
        "for comment in val_dataset:\n",
        "  sentence = comment['token']\n",
        "  max_len = max(max_len,sentence.shape[0])\n",
        "\n",
        "print(max_len)"
      ]
    },
    {
      "cell_type": "code",
      "execution_count": 64,
      "metadata": {
        "colab": {
          "base_uri": "https://localhost:8080/"
        },
        "id": "Y0DXO4Q2II3i",
        "outputId": "471b3762-68ba-4ac6-8f4c-2acd20a5b427"
      },
      "outputs": [
        {
          "data": {
            "text/plain": [
              "{'label': tensor(4),\n",
              " 'token': tensor([    1,  1109,    32,  1110,    32,  1111, 13510, 13510, 13510, 13510,\n",
              "         13510, 13510, 13510, 13510, 13510, 13510, 13510, 13510, 13510, 13510,\n",
              "         13510, 13510, 13510, 13510, 13510, 13510, 13510, 13510, 13510, 13510,\n",
              "         13510, 13510, 13510, 13510, 13510, 13510, 13510, 13510, 13510, 13510,\n",
              "         13510, 13510, 13510, 13510, 13510, 13510, 13510, 13510, 13510, 13510,\n",
              "         13510, 13510, 13510, 13510, 13510, 13510, 13510, 13510, 13510, 13510,\n",
              "         13510])}"
            ]
          },
          "execution_count": 64,
          "metadata": {},
          "output_type": "execute_result"
        }
      ],
      "source": [
        "train_dataset[0]"
      ]
    },
    {
      "cell_type": "markdown",
      "metadata": {
        "id": "UDXQNerMvjIb"
      },
      "source": [
        "### Model"
      ]
    },
    {
      "cell_type": "code",
      "execution_count": 65,
      "metadata": {
        "id": "wR0tnE2NxphD"
      },
      "outputs": [],
      "source": [
        "class SelfMatchingLayer(nn.Module):\n",
        "\n",
        "    def __init__(self,  seq_length, embed_dim, **kwargs):\n",
        "\n",
        "      super(SelfMatchingLayer, self).__init__()\n",
        "\n",
        "      self.seq_length = seq_length\n",
        "      self.embed_dim  = embed_dim\n",
        "\n",
        "      self.P = torch.nn.Parameter(torch.Tensor(self.embed_dim, self.embed_dim))\n",
        "\n",
        "      self.reset_parameters()\n",
        "\n",
        "    def reset_parameters(self):\n",
        "        torch.nn.init.kaiming_uniform_(self.P, a=math.sqrt(5))\n",
        "\n",
        "      \n",
        "    def forward(self, x):  \n",
        "      \n",
        "      # input shape: [batch, seq_len, embed_dim]\n",
        "\n",
        "\n",
        "      #---------------------------------------------#\n",
        "      # calculate weight vector a = {e_i . P.Q . e_j}\n",
        "      #---------------------------------------------#\n",
        "\n",
        "      out = torch.matmul(x,  self.P)   #out shape: [batch, seq_len, embed_dim]\n",
        "\n",
        "      out = torch.matmul(out, torch.transpose(x, 1, 2))   #out shape: [batch, seq_len, seq_len]\n",
        "\n",
        "      out = F.gelu(out)         # apply non linear activation\n",
        "\n",
        "      #------------------------------------#\n",
        "      # take row wise mean and apply softmax\n",
        "      #------------------------------------#\n",
        "      out = torch.mean(out, 2)  #out shape: [batch, seq_len, seq_len]\n",
        "\n",
        "      out = torch.softmax(out, 0)     #out shape: [batch, seq_len, seq_len]\n",
        "\n",
        "      out = out.unsqueeze(1)          #out shape: [batch, 1, seq_len]\n",
        "\n",
        "      #-------------------------------------------#\n",
        "      # calculate weighted embedding of every word\n",
        "      #-------------------------------------------#\n",
        "      out = torch.matmul(out, x)\n",
        "\n",
        "      out = out.squeeze(1)\n",
        "\n",
        "      return out      #out shape: [batch, seq_len]\n"
      ]
    },
    {
      "cell_type": "code",
      "execution_count": 66,
      "metadata": {
        "colab": {
          "base_uri": "https://localhost:8080/"
        },
        "id": "4OkC2PE1q3Fq",
        "outputId": "5188e8ce-3efa-4280-f761-511c46f26e2a"
      },
      "outputs": [
        {
          "data": {
            "text/plain": [
              "13510"
            ]
          },
          "execution_count": 66,
          "metadata": {},
          "output_type": "execute_result"
        }
      ],
      "source": [
        "word2idx['<PAD>']"
      ]
    },
    {
      "cell_type": "code",
      "execution_count": 67,
      "metadata": {
        "id": "LFAeZSyXu9KJ"
      },
      "outputs": [],
      "source": [
        "class SelfNet(nn.Module):\n",
        "\n",
        "    def __init__(self, vocab_size, embed_dim, hidden_size, num_layer, seq_len, num_class):\n",
        "        super(SelfNet, self).__init__()\n",
        "\n",
        "\n",
        "        self.embedding = nn.Embedding(vocab_size, embed_dim, padding_idx = word2idx['<PAD>'])\n",
        "        self.embedding.load_state_dict({'weight': torch.from_numpy(embedding_matrix)})\n",
        "        self.embedding.weight.requires_grad = True\n",
        "\n",
        "        self.selfnet_layer = SelfMatchingLayer(seq_len, embed_dim)\n",
        "\n",
        "        self.lstm = nn.LSTM(input_size = embed_dim, hidden_size = hidden_size, num_layers = num_layer, dropout = 0.3, bidirectional = True, batch_first = True )\n",
        "\n",
        "\n",
        "        self.fc1 = nn.Linear(2* hidden_size + embed_dim , hidden_size//4)\n",
        "        self.fc2 = nn.Linear(hidden_size//4, num_class)\n",
        "\n",
        "        self.dropout = nn.Dropout(0.3)\n",
        "\n",
        "\n",
        "\n",
        "    def forward(self, input):\n",
        "\n",
        "        embedded = self.embedding(input)  #out shape = [batch, seq_len, embed_dim] \n",
        "\n",
        "        selfmatch_output = self.selfnet_layer(embedded)  #out shape = [batch, seq_len] \n",
        "\n",
        "        lstm_out, _ = self.lstm(embedded)     \n",
        "\n",
        "        lstm_out = lstm_out[:, -1, :]      #out shape = [batch, 2 * hidden_size]      \n",
        "\n",
        "        concat = torch.cat( (selfmatch_output, lstm_out), 1)     #out shape = [batch, 2 * hidden_size + seq_len ]      \n",
        "\n",
        "        linear_out = self.dropout(F.relu(self.fc1(concat)))     #out shape = [batch, hidden_size]      \n",
        "\n",
        "        final_out = self.fc2(linear_out)     #out shape = [batch, 2]      \n",
        "\n",
        "        return final_out"
      ]
    },
    {
      "cell_type": "code",
      "execution_count": 68,
      "metadata": {
        "id": "Msc1-1zlOtAh"
      },
      "outputs": [],
      "source": [
        "\n",
        "### Test\n",
        "model = SelfNet( vocab_size, embed_dim, hidden_size, num_layer, seq_len, num_class)\n",
        "model = model.to(device)\n",
        "\n",
        "# for batch in train_loader:\n",
        "#   x = batch['token'].to(device)\n",
        "#   out = model(x)\n",
        "#   print(out.shape)\n",
        "#   break\n",
        "\n"
      ]
    },
    {
      "cell_type": "code",
      "execution_count": 69,
      "metadata": {
        "colab": {
          "base_uri": "https://localhost:8080/"
        },
        "id": "m-XvE3WHII3l",
        "outputId": "aaf727e6-066f-49bc-d07b-e32dfa27a9a0"
      },
      "outputs": [
        {
          "data": {
            "text/plain": [
              "SelfNet(\n",
              "  (embedding): Embedding(13511, 100, padding_idx=13510)\n",
              "  (selfnet_layer): SelfMatchingLayer()\n",
              "  (lstm): LSTM(100, 512, num_layers=3, batch_first=True, dropout=0.3, bidirectional=True)\n",
              "  (fc1): Linear(in_features=1124, out_features=128, bias=True)\n",
              "  (fc2): Linear(in_features=128, out_features=7, bias=True)\n",
              "  (dropout): Dropout(p=0.3, inplace=False)\n",
              ")"
            ]
          },
          "execution_count": 69,
          "metadata": {},
          "output_type": "execute_result"
        }
      ],
      "source": [
        "model"
      ]
    },
    {
      "cell_type": "markdown",
      "metadata": {
        "id": "_xjqPfmqx5Hj"
      },
      "source": [
        "### Optimizer and loss"
      ]
    },
    {
      "cell_type": "code",
      "execution_count": 70,
      "metadata": {
        "id": "ifFhRpc2x4Fv"
      },
      "outputs": [],
      "source": [
        "#optimizer\n",
        "optimizer = Adam(model.parameters(), lr = LEARNING_RATE, eps=1e-8)\n",
        "#Loss function\n",
        "criterion = nn.CrossEntropyLoss()"
      ]
    },
    {
      "cell_type": "code",
      "execution_count": 71,
      "metadata": {
        "id": "04ozLaUUx-eo"
      },
      "outputs": [],
      "source": [
        "#to calculate accuracy\n",
        "\n",
        "def get_accuracy(preds, labels):\n",
        "  total_acc = 0.0\n",
        "  \n",
        "  for i in range(len(labels)):\n",
        "    if labels[i] == preds[i]:\n",
        "      total_acc+=1.0\n",
        "  \n",
        "  return total_acc / len(labels)"
      ]
    },
    {
      "cell_type": "markdown",
      "metadata": {
        "id": "4D33SEPjzILZ"
      },
      "source": [
        "### Training"
      ]
    },
    {
      "cell_type": "code",
      "execution_count": 72,
      "metadata": {
        "colab": {
          "base_uri": "https://localhost:8080/"
        },
        "id": "tP5of6JbII3n",
        "outputId": "58296fc2-81e5-4394-eec6-d979870d53b0"
      },
      "outputs": [
        {
          "name": "stdout",
          "output_type": "stream",
          "text": [
            "Adjusting learning rate of group 0 to 1.0000e-03.\n"
          ]
        }
      ],
      "source": [
        "from torch.optim.lr_scheduler import ReduceLROnPlateau\n",
        "#scheduler = ReduceLROnPlateau(optimizer, 'max', factor=0.2, patience=5, threshold=0.0008, verbose = True)\n",
        "\n",
        "scheduler = torch.optim.lr_scheduler.StepLR(optimizer, step_size=1, gamma=0.5, verbose = True)\n"
      ]
    },
    {
      "cell_type": "code",
      "execution_count": 73,
      "metadata": {
        "id": "2o0-BUMKII3o"
      },
      "outputs": [],
      "source": [
        "PATH = '/home/ckm/ck_project/codemix/code/selfnet_mihir/models/selfnet_mean+gelu_2_mihir_yt_1.pt'"
      ]
    },
    {
      "cell_type": "code",
      "execution_count": 74,
      "metadata": {
        "colab": {
          "base_uri": "https://localhost:8080/"
        },
        "id": "lZkPq1t6yBwx",
        "outputId": "4a678302-dc2f-421d-a886-c7448087ca26"
      },
      "outputs": [
        {
          "name": "stdout",
          "output_type": "stream",
          "text": [
            "--------------------------------------------------\n",
            "Epoch 1/30\n"
          ]
        },
        {
          "name": "stderr",
          "output_type": "stream",
          "text": [
            "100%|██████████| 125/125 [01:07<00:00,  1.85batch/s]\n",
            "/home/ckm/python3.7/lib/python3.7/site-packages/sklearn/metrics/_classification.py:1248: UndefinedMetricWarning: Precision is ill-defined and being set to 0.0 in labels with no predicted samples. Use `zero_division` parameter to control this behavior.\n",
            "  _warn_prf(average, modifier, msg_start, len(result))\n"
          ]
        },
        {
          "name": "stdout",
          "output_type": "stream",
          "text": [
            "Train:\n",
            "F1: 0.2948, Precision: 0.2837, Recall : 0.3985, Accuracy: 0.3985, Loss: 0.0233.\n",
            "\n"
          ]
        },
        {
          "name": "stderr",
          "output_type": "stream",
          "text": [
            "100%|██████████| 12/12 [00:17<00:00,  1.42s/batch]\n",
            "/home/ckm/python3.7/lib/python3.7/site-packages/sklearn/metrics/_classification.py:1248: UndefinedMetricWarning: Precision is ill-defined and being set to 0.0 in labels with no predicted samples. Use `zero_division` parameter to control this behavior.\n",
            "  _warn_prf(average, modifier, msg_start, len(result))\n"
          ]
        },
        {
          "name": "stdout",
          "output_type": "stream",
          "text": [
            "Val:\n",
            "F1: 0.2583, Precision: 0.1846, Recall : 0.4297, Accuracy: 0.4297, Loss: 0.2176.\n",
            "\n",
            "Model Saved!\n",
            "Adjusting learning rate of group 0 to 5.0000e-04.\n",
            "--------------------------------------------------\n",
            "Epoch 2/30\n"
          ]
        },
        {
          "name": "stderr",
          "output_type": "stream",
          "text": [
            "100%|██████████| 125/125 [01:07<00:00,  1.85batch/s]\n",
            "/home/ckm/python3.7/lib/python3.7/site-packages/sklearn/metrics/_classification.py:1248: UndefinedMetricWarning: Precision is ill-defined and being set to 0.0 in labels with no predicted samples. Use `zero_division` parameter to control this behavior.\n",
            "  _warn_prf(average, modifier, msg_start, len(result))\n"
          ]
        },
        {
          "name": "stdout",
          "output_type": "stream",
          "text": [
            "Train:\n",
            "F1: 0.3344, Precision: 0.2949, Recall : 0.4410, Accuracy: 0.4410, Loss: 0.0202.\n",
            "\n"
          ]
        },
        {
          "name": "stderr",
          "output_type": "stream",
          "text": [
            "100%|██████████| 12/12 [00:18<00:00,  1.50s/batch]\n",
            "/home/ckm/python3.7/lib/python3.7/site-packages/sklearn/metrics/_classification.py:1248: UndefinedMetricWarning: Precision is ill-defined and being set to 0.0 in labels with no predicted samples. Use `zero_division` parameter to control this behavior.\n",
            "  _warn_prf(average, modifier, msg_start, len(result))\n"
          ]
        },
        {
          "name": "stdout",
          "output_type": "stream",
          "text": [
            "Val:\n",
            "F1: 0.4296, Precision: 0.3710, Recall : 0.5104, Accuracy: 0.5104, Loss: 0.2076.\n",
            "\n",
            "Model Saved!\n",
            "Adjusting learning rate of group 0 to 2.5000e-04.\n",
            "--------------------------------------------------\n",
            "Epoch 3/30\n"
          ]
        },
        {
          "name": "stderr",
          "output_type": "stream",
          "text": [
            "100%|██████████| 125/125 [01:05<00:00,  1.92batch/s]\n",
            "/home/ckm/python3.7/lib/python3.7/site-packages/sklearn/metrics/_classification.py:1248: UndefinedMetricWarning: Precision is ill-defined and being set to 0.0 in labels with no predicted samples. Use `zero_division` parameter to control this behavior.\n",
            "  _warn_prf(average, modifier, msg_start, len(result))\n"
          ]
        },
        {
          "name": "stdout",
          "output_type": "stream",
          "text": [
            "Train:\n",
            "F1: 0.4014, Precision: 0.3399, Recall : 0.4905, Accuracy: 0.4905, Loss: 0.0221.\n",
            "\n"
          ]
        },
        {
          "name": "stderr",
          "output_type": "stream",
          "text": [
            "100%|██████████| 12/12 [00:18<00:00,  1.54s/batch]\n",
            "/home/ckm/python3.7/lib/python3.7/site-packages/sklearn/metrics/_classification.py:1248: UndefinedMetricWarning: Precision is ill-defined and being set to 0.0 in labels with no predicted samples. Use `zero_division` parameter to control this behavior.\n",
            "  _warn_prf(average, modifier, msg_start, len(result))\n"
          ]
        },
        {
          "name": "stdout",
          "output_type": "stream",
          "text": [
            "Val:\n",
            "F1: 0.4636, Precision: 0.4193, Recall : 0.5391, Accuracy: 0.5391, Loss: 0.2202.\n",
            "\n",
            "Model Saved!\n",
            "Adjusting learning rate of group 0 to 1.2500e-04.\n",
            "--------------------------------------------------\n",
            "Epoch 4/30\n"
          ]
        },
        {
          "name": "stderr",
          "output_type": "stream",
          "text": [
            "100%|██████████| 125/125 [01:04<00:00,  1.93batch/s]\n",
            "/home/ckm/python3.7/lib/python3.7/site-packages/sklearn/metrics/_classification.py:1248: UndefinedMetricWarning: Precision is ill-defined and being set to 0.0 in labels with no predicted samples. Use `zero_division` parameter to control this behavior.\n",
            "  _warn_prf(average, modifier, msg_start, len(result))\n"
          ]
        },
        {
          "name": "stdout",
          "output_type": "stream",
          "text": [
            "Train:\n",
            "F1: 0.4144, Precision: 0.3567, Recall : 0.5012, Accuracy: 0.5012, Loss: 0.0175.\n",
            "\n"
          ]
        },
        {
          "name": "stderr",
          "output_type": "stream",
          "text": [
            "100%|██████████| 12/12 [00:16<00:00,  1.38s/batch]\n",
            "/home/ckm/python3.7/lib/python3.7/site-packages/sklearn/metrics/_classification.py:1248: UndefinedMetricWarning: Precision is ill-defined and being set to 0.0 in labels with no predicted samples. Use `zero_division` parameter to control this behavior.\n",
            "  _warn_prf(average, modifier, msg_start, len(result))\n"
          ]
        },
        {
          "name": "stdout",
          "output_type": "stream",
          "text": [
            "Val:\n",
            "F1: 0.4480, Precision: 0.3873, Recall : 0.5312, Accuracy: 0.5312, Loss: 0.2177.\n",
            "\n",
            "Adjusting learning rate of group 0 to 6.2500e-05.\n",
            "--------------------------------------------------\n",
            "Epoch 5/30\n"
          ]
        },
        {
          "name": "stderr",
          "output_type": "stream",
          "text": [
            "100%|██████████| 125/125 [01:01<00:00,  2.03batch/s]\n",
            "/home/ckm/python3.7/lib/python3.7/site-packages/sklearn/metrics/_classification.py:1248: UndefinedMetricWarning: Precision is ill-defined and being set to 0.0 in labels with no predicted samples. Use `zero_division` parameter to control this behavior.\n",
            "  _warn_prf(average, modifier, msg_start, len(result))\n"
          ]
        },
        {
          "name": "stdout",
          "output_type": "stream",
          "text": [
            "Train:\n",
            "F1: 0.4271, Precision: 0.3632, Recall : 0.5198, Accuracy: 0.5198, Loss: 0.0192.\n",
            "\n"
          ]
        },
        {
          "name": "stderr",
          "output_type": "stream",
          "text": [
            "100%|██████████| 12/12 [00:16<00:00,  1.41s/batch]\n",
            "/home/ckm/python3.7/lib/python3.7/site-packages/sklearn/metrics/_classification.py:1248: UndefinedMetricWarning: Precision is ill-defined and being set to 0.0 in labels with no predicted samples. Use `zero_division` parameter to control this behavior.\n",
            "  _warn_prf(average, modifier, msg_start, len(result))\n"
          ]
        },
        {
          "name": "stdout",
          "output_type": "stream",
          "text": [
            "Val:\n",
            "F1: 0.3641, Precision: 0.3220, Recall : 0.4635, Accuracy: 0.4635, Loss: 0.2084.\n",
            "\n",
            "Adjusting learning rate of group 0 to 3.1250e-05.\n",
            "--------------------------------------------------\n",
            "Epoch 6/30\n"
          ]
        },
        {
          "name": "stderr",
          "output_type": "stream",
          "text": [
            "100%|██████████| 125/125 [01:01<00:00,  2.04batch/s]\n",
            "/home/ckm/python3.7/lib/python3.7/site-packages/sklearn/metrics/_classification.py:1248: UndefinedMetricWarning: Precision is ill-defined and being set to 0.0 in labels with no predicted samples. Use `zero_division` parameter to control this behavior.\n",
            "  _warn_prf(average, modifier, msg_start, len(result))\n"
          ]
        },
        {
          "name": "stdout",
          "output_type": "stream",
          "text": [
            "Train:\n",
            "F1: 0.4500, Precision: 0.3902, Recall : 0.5403, Accuracy: 0.5403, Loss: 0.0171.\n",
            "\n"
          ]
        },
        {
          "name": "stderr",
          "output_type": "stream",
          "text": [
            "100%|██████████| 12/12 [00:17<00:00,  1.50s/batch]\n",
            "/home/ckm/python3.7/lib/python3.7/site-packages/sklearn/metrics/_classification.py:1248: UndefinedMetricWarning: Precision is ill-defined and being set to 0.0 in labels with no predicted samples. Use `zero_division` parameter to control this behavior.\n",
            "  _warn_prf(average, modifier, msg_start, len(result))\n"
          ]
        },
        {
          "name": "stdout",
          "output_type": "stream",
          "text": [
            "Val:\n",
            "F1: 0.3484, Precision: 0.3114, Recall : 0.4505, Accuracy: 0.4505, Loss: 0.2103.\n",
            "\n",
            "Adjusting learning rate of group 0 to 1.5625e-05.\n",
            "--------------------------------------------------\n",
            "Epoch 7/30\n"
          ]
        },
        {
          "name": "stderr",
          "output_type": "stream",
          "text": [
            "100%|██████████| 125/125 [01:00<00:00,  2.08batch/s]\n",
            "/home/ckm/python3.7/lib/python3.7/site-packages/sklearn/metrics/_classification.py:1248: UndefinedMetricWarning: Precision is ill-defined and being set to 0.0 in labels with no predicted samples. Use `zero_division` parameter to control this behavior.\n",
            "  _warn_prf(average, modifier, msg_start, len(result))\n"
          ]
        },
        {
          "name": "stdout",
          "output_type": "stream",
          "text": [
            "Train:\n",
            "F1: 0.4629, Precision: 0.4043, Recall : 0.5535, Accuracy: 0.5535, Loss: 0.0182.\n",
            "\n"
          ]
        },
        {
          "name": "stderr",
          "output_type": "stream",
          "text": [
            "100%|██████████| 12/12 [00:18<00:00,  1.50s/batch]\n",
            "/home/ckm/python3.7/lib/python3.7/site-packages/sklearn/metrics/_classification.py:1248: UndefinedMetricWarning: Precision is ill-defined and being set to 0.0 in labels with no predicted samples. Use `zero_division` parameter to control this behavior.\n",
            "  _warn_prf(average, modifier, msg_start, len(result))\n"
          ]
        },
        {
          "name": "stdout",
          "output_type": "stream",
          "text": [
            "Val:\n",
            "F1: 0.3509, Precision: 0.3172, Recall : 0.4557, Accuracy: 0.4557, Loss: 0.1846.\n",
            "\n",
            "Adjusting learning rate of group 0 to 7.8125e-06.\n",
            "--------------------------------------------------\n",
            "Epoch 8/30\n"
          ]
        },
        {
          "name": "stderr",
          "output_type": "stream",
          "text": [
            "100%|██████████| 125/125 [01:05<00:00,  1.91batch/s]\n",
            "/home/ckm/python3.7/lib/python3.7/site-packages/sklearn/metrics/_classification.py:1248: UndefinedMetricWarning: Precision is ill-defined and being set to 0.0 in labels with no predicted samples. Use `zero_division` parameter to control this behavior.\n",
            "  _warn_prf(average, modifier, msg_start, len(result))\n"
          ]
        },
        {
          "name": "stdout",
          "output_type": "stream",
          "text": [
            "Train:\n",
            "F1: 0.4686, Precision: 0.4105, Recall : 0.5593, Accuracy: 0.5593, Loss: 0.0185.\n",
            "\n"
          ]
        },
        {
          "name": "stderr",
          "output_type": "stream",
          "text": [
            "100%|██████████| 12/12 [00:17<00:00,  1.44s/batch]\n",
            "/home/ckm/python3.7/lib/python3.7/site-packages/sklearn/metrics/_classification.py:1248: UndefinedMetricWarning: Precision is ill-defined and being set to 0.0 in labels with no predicted samples. Use `zero_division` parameter to control this behavior.\n",
            "  _warn_prf(average, modifier, msg_start, len(result))\n"
          ]
        },
        {
          "name": "stdout",
          "output_type": "stream",
          "text": [
            "Val:\n",
            "F1: 0.3544, Precision: 0.3224, Recall : 0.4557, Accuracy: 0.4557, Loss: 0.1789.\n",
            "\n",
            "Adjusting learning rate of group 0 to 3.9063e-06.\n",
            "--------------------------------------------------\n",
            "Epoch 9/30\n"
          ]
        },
        {
          "name": "stderr",
          "output_type": "stream",
          "text": [
            "100%|██████████| 125/125 [01:01<00:00,  2.05batch/s]\n",
            "/home/ckm/python3.7/lib/python3.7/site-packages/sklearn/metrics/_classification.py:1248: UndefinedMetricWarning: Precision is ill-defined and being set to 0.0 in labels with no predicted samples. Use `zero_division` parameter to control this behavior.\n",
            "  _warn_prf(average, modifier, msg_start, len(result))\n"
          ]
        },
        {
          "name": "stdout",
          "output_type": "stream",
          "text": [
            "Train:\n",
            "F1: 0.4734, Precision: 0.4144, Recall : 0.5653, Accuracy: 0.5653, Loss: 0.0217.\n",
            "\n"
          ]
        },
        {
          "name": "stderr",
          "output_type": "stream",
          "text": [
            "100%|██████████| 12/12 [00:16<00:00,  1.41s/batch]\n",
            "/home/ckm/python3.7/lib/python3.7/site-packages/sklearn/metrics/_classification.py:1248: UndefinedMetricWarning: Precision is ill-defined and being set to 0.0 in labels with no predicted samples. Use `zero_division` parameter to control this behavior.\n",
            "  _warn_prf(average, modifier, msg_start, len(result))\n"
          ]
        },
        {
          "name": "stdout",
          "output_type": "stream",
          "text": [
            "Val:\n",
            "F1: 0.3563, Precision: 0.3227, Recall : 0.4661, Accuracy: 0.4661, Loss: 0.2224.\n",
            "\n",
            "Adjusting learning rate of group 0 to 1.9531e-06.\n",
            "--------------------------------------------------\n",
            "Epoch 10/30\n"
          ]
        },
        {
          "name": "stderr",
          "output_type": "stream",
          "text": [
            "100%|██████████| 125/125 [01:00<00:00,  2.08batch/s]\n",
            "/home/ckm/python3.7/lib/python3.7/site-packages/sklearn/metrics/_classification.py:1248: UndefinedMetricWarning: Precision is ill-defined and being set to 0.0 in labels with no predicted samples. Use `zero_division` parameter to control this behavior.\n",
            "  _warn_prf(average, modifier, msg_start, len(result))\n"
          ]
        },
        {
          "name": "stdout",
          "output_type": "stream",
          "text": [
            "Train:\n",
            "F1: 0.4759, Precision: 0.4207, Recall : 0.5660, Accuracy: 0.5660, Loss: 0.0177.\n",
            "\n"
          ]
        },
        {
          "name": "stderr",
          "output_type": "stream",
          "text": [
            "100%|██████████| 12/12 [00:18<00:00,  1.57s/batch]\n",
            "/home/ckm/python3.7/lib/python3.7/site-packages/sklearn/metrics/_classification.py:1248: UndefinedMetricWarning: Precision is ill-defined and being set to 0.0 in labels with no predicted samples. Use `zero_division` parameter to control this behavior.\n",
            "  _warn_prf(average, modifier, msg_start, len(result))\n"
          ]
        },
        {
          "name": "stdout",
          "output_type": "stream",
          "text": [
            "Val:\n",
            "F1: 0.3365, Precision: 0.3046, Recall : 0.4453, Accuracy: 0.4453, Loss: 0.2257.\n",
            "\n",
            "Adjusting learning rate of group 0 to 9.7656e-07.\n",
            "--------------------------------------------------\n",
            "Epoch 11/30\n"
          ]
        },
        {
          "name": "stderr",
          "output_type": "stream",
          "text": [
            "100%|██████████| 125/125 [01:00<00:00,  2.06batch/s]\n",
            "/home/ckm/python3.7/lib/python3.7/site-packages/sklearn/metrics/_classification.py:1248: UndefinedMetricWarning: Precision is ill-defined and being set to 0.0 in labels with no predicted samples. Use `zero_division` parameter to control this behavior.\n",
            "  _warn_prf(average, modifier, msg_start, len(result))\n"
          ]
        },
        {
          "name": "stdout",
          "output_type": "stream",
          "text": [
            "Train:\n",
            "F1: 0.4764, Precision: 0.4197, Recall : 0.5670, Accuracy: 0.5670, Loss: 0.0168.\n",
            "\n"
          ]
        },
        {
          "name": "stderr",
          "output_type": "stream",
          "text": [
            "100%|██████████| 12/12 [00:17<00:00,  1.43s/batch]\n",
            "/home/ckm/python3.7/lib/python3.7/site-packages/sklearn/metrics/_classification.py:1248: UndefinedMetricWarning: Precision is ill-defined and being set to 0.0 in labels with no predicted samples. Use `zero_division` parameter to control this behavior.\n",
            "  _warn_prf(average, modifier, msg_start, len(result))\n"
          ]
        },
        {
          "name": "stdout",
          "output_type": "stream",
          "text": [
            "Val:\n",
            "F1: 0.3364, Precision: 0.3052, Recall : 0.4427, Accuracy: 0.4427, Loss: 0.2885.\n",
            "\n",
            "Adjusting learning rate of group 0 to 4.8828e-07.\n",
            "--------------------------------------------------\n",
            "Epoch 12/30\n"
          ]
        },
        {
          "name": "stderr",
          "output_type": "stream",
          "text": [
            "100%|██████████| 125/125 [01:00<00:00,  2.07batch/s]\n",
            "/home/ckm/python3.7/lib/python3.7/site-packages/sklearn/metrics/_classification.py:1248: UndefinedMetricWarning: Precision is ill-defined and being set to 0.0 in labels with no predicted samples. Use `zero_division` parameter to control this behavior.\n",
            "  _warn_prf(average, modifier, msg_start, len(result))\n"
          ]
        },
        {
          "name": "stdout",
          "output_type": "stream",
          "text": [
            "Train:\n",
            "F1: 0.4741, Precision: 0.4176, Recall : 0.5645, Accuracy: 0.5645, Loss: 0.0151.\n",
            "\n"
          ]
        },
        {
          "name": "stderr",
          "output_type": "stream",
          "text": [
            "100%|██████████| 12/12 [00:17<00:00,  1.50s/batch]\n",
            "/home/ckm/python3.7/lib/python3.7/site-packages/sklearn/metrics/_classification.py:1248: UndefinedMetricWarning: Precision is ill-defined and being set to 0.0 in labels with no predicted samples. Use `zero_division` parameter to control this behavior.\n",
            "  _warn_prf(average, modifier, msg_start, len(result))\n"
          ]
        },
        {
          "name": "stdout",
          "output_type": "stream",
          "text": [
            "Val:\n",
            "F1: 0.3463, Precision: 0.3102, Recall : 0.4531, Accuracy: 0.4531, Loss: 0.2444.\n",
            "\n",
            "Adjusting learning rate of group 0 to 2.4414e-07.\n",
            "--------------------------------------------------\n",
            "Epoch 13/30\n"
          ]
        },
        {
          "name": "stderr",
          "output_type": "stream",
          "text": [
            "100%|██████████| 125/125 [00:59<00:00,  2.09batch/s]\n",
            "/home/ckm/python3.7/lib/python3.7/site-packages/sklearn/metrics/_classification.py:1248: UndefinedMetricWarning: Precision is ill-defined and being set to 0.0 in labels with no predicted samples. Use `zero_division` parameter to control this behavior.\n",
            "  _warn_prf(average, modifier, msg_start, len(result))\n"
          ]
        },
        {
          "name": "stdout",
          "output_type": "stream",
          "text": [
            "Train:\n",
            "F1: 0.4777, Precision: 0.4204, Recall : 0.5687, Accuracy: 0.5687, Loss: 0.0208.\n",
            "\n"
          ]
        },
        {
          "name": "stderr",
          "output_type": "stream",
          "text": [
            "100%|██████████| 12/12 [00:20<00:00,  1.67s/batch]\n",
            "/home/ckm/python3.7/lib/python3.7/site-packages/sklearn/metrics/_classification.py:1248: UndefinedMetricWarning: Precision is ill-defined and being set to 0.0 in labels with no predicted samples. Use `zero_division` parameter to control this behavior.\n",
            "  _warn_prf(average, modifier, msg_start, len(result))\n"
          ]
        },
        {
          "name": "stdout",
          "output_type": "stream",
          "text": [
            "Val:\n",
            "F1: 0.3387, Precision: 0.3004, Recall : 0.4427, Accuracy: 0.4427, Loss: 0.2167.\n",
            "\n",
            "Adjusting learning rate of group 0 to 1.2207e-07.\n",
            "--------------------------------------------------\n",
            "Epoch 14/30\n"
          ]
        },
        {
          "name": "stderr",
          "output_type": "stream",
          "text": [
            "100%|██████████| 125/125 [01:00<00:00,  2.06batch/s]\n",
            "/home/ckm/python3.7/lib/python3.7/site-packages/sklearn/metrics/_classification.py:1248: UndefinedMetricWarning: Precision is ill-defined and being set to 0.0 in labels with no predicted samples. Use `zero_division` parameter to control this behavior.\n",
            "  _warn_prf(average, modifier, msg_start, len(result))\n"
          ]
        },
        {
          "name": "stdout",
          "output_type": "stream",
          "text": [
            "Train:\n",
            "F1: 0.4762, Precision: 0.4791, Recall : 0.5657, Accuracy: 0.5657, Loss: 0.0176.\n",
            "\n"
          ]
        },
        {
          "name": "stderr",
          "output_type": "stream",
          "text": [
            "100%|██████████| 12/12 [00:17<00:00,  1.45s/batch]\n",
            "/home/ckm/python3.7/lib/python3.7/site-packages/sklearn/metrics/_classification.py:1248: UndefinedMetricWarning: Precision is ill-defined and being set to 0.0 in labels with no predicted samples. Use `zero_division` parameter to control this behavior.\n",
            "  _warn_prf(average, modifier, msg_start, len(result))\n"
          ]
        },
        {
          "name": "stdout",
          "output_type": "stream",
          "text": [
            "Val:\n",
            "F1: 0.3331, Precision: 0.2995, Recall : 0.4375, Accuracy: 0.4375, Loss: 0.2905.\n",
            "\n",
            "Adjusting learning rate of group 0 to 6.1035e-08.\n",
            "--------------------------------------------------\n",
            "Epoch 15/30\n"
          ]
        },
        {
          "name": "stderr",
          "output_type": "stream",
          "text": [
            "100%|██████████| 125/125 [01:00<00:00,  2.06batch/s]\n",
            "/home/ckm/python3.7/lib/python3.7/site-packages/sklearn/metrics/_classification.py:1248: UndefinedMetricWarning: Precision is ill-defined and being set to 0.0 in labels with no predicted samples. Use `zero_division` parameter to control this behavior.\n",
            "  _warn_prf(average, modifier, msg_start, len(result))\n"
          ]
        },
        {
          "name": "stdout",
          "output_type": "stream",
          "text": [
            "Train:\n",
            "F1: 0.4768, Precision: 0.4196, Recall : 0.5680, Accuracy: 0.5680, Loss: 0.0179.\n",
            "\n"
          ]
        },
        {
          "name": "stderr",
          "output_type": "stream",
          "text": [
            "100%|██████████| 12/12 [00:17<00:00,  1.47s/batch]\n",
            "/home/ckm/python3.7/lib/python3.7/site-packages/sklearn/metrics/_classification.py:1248: UndefinedMetricWarning: Precision is ill-defined and being set to 0.0 in labels with no predicted samples. Use `zero_division` parameter to control this behavior.\n",
            "  _warn_prf(average, modifier, msg_start, len(result))\n"
          ]
        },
        {
          "name": "stdout",
          "output_type": "stream",
          "text": [
            "Val:\n",
            "F1: 0.3412, Precision: 0.3073, Recall : 0.4479, Accuracy: 0.4479, Loss: 0.2729.\n",
            "\n",
            "Adjusting learning rate of group 0 to 3.0518e-08.\n",
            "--------------------------------------------------\n",
            "Epoch 16/30\n"
          ]
        },
        {
          "name": "stderr",
          "output_type": "stream",
          "text": [
            "100%|██████████| 125/125 [01:00<00:00,  2.06batch/s]\n",
            "/home/ckm/python3.7/lib/python3.7/site-packages/sklearn/metrics/_classification.py:1248: UndefinedMetricWarning: Precision is ill-defined and being set to 0.0 in labels with no predicted samples. Use `zero_division` parameter to control this behavior.\n",
            "  _warn_prf(average, modifier, msg_start, len(result))\n"
          ]
        },
        {
          "name": "stdout",
          "output_type": "stream",
          "text": [
            "Train:\n",
            "F1: 0.4729, Precision: 0.4167, Recall : 0.5627, Accuracy: 0.5627, Loss: 0.0167.\n",
            "\n"
          ]
        },
        {
          "name": "stderr",
          "output_type": "stream",
          "text": [
            "100%|██████████| 12/12 [00:18<00:00,  1.51s/batch]\n",
            "/home/ckm/python3.7/lib/python3.7/site-packages/sklearn/metrics/_classification.py:1248: UndefinedMetricWarning: Precision is ill-defined and being set to 0.0 in labels with no predicted samples. Use `zero_division` parameter to control this behavior.\n",
            "  _warn_prf(average, modifier, msg_start, len(result))\n"
          ]
        },
        {
          "name": "stdout",
          "output_type": "stream",
          "text": [
            "Val:\n",
            "F1: 0.3470, Precision: 0.3063, Recall : 0.4505, Accuracy: 0.4505, Loss: 0.2356.\n",
            "\n",
            "Adjusting learning rate of group 0 to 1.5259e-08.\n",
            "--------------------------------------------------\n",
            "Epoch 17/30\n"
          ]
        },
        {
          "name": "stderr",
          "output_type": "stream",
          "text": [
            "100%|██████████| 125/125 [01:00<00:00,  2.08batch/s]\n",
            "/home/ckm/python3.7/lib/python3.7/site-packages/sklearn/metrics/_classification.py:1248: UndefinedMetricWarning: Precision is ill-defined and being set to 0.0 in labels with no predicted samples. Use `zero_division` parameter to control this behavior.\n",
            "  _warn_prf(average, modifier, msg_start, len(result))\n"
          ]
        },
        {
          "name": "stdout",
          "output_type": "stream",
          "text": [
            "Train:\n",
            "F1: 0.4786, Precision: 0.4218, Recall : 0.5697, Accuracy: 0.5697, Loss: 0.0191.\n",
            "\n"
          ]
        },
        {
          "name": "stderr",
          "output_type": "stream",
          "text": [
            "100%|██████████| 12/12 [00:17<00:00,  1.50s/batch]\n",
            "/home/ckm/python3.7/lib/python3.7/site-packages/sklearn/metrics/_classification.py:1248: UndefinedMetricWarning: Precision is ill-defined and being set to 0.0 in labels with no predicted samples. Use `zero_division` parameter to control this behavior.\n",
            "  _warn_prf(average, modifier, msg_start, len(result))\n"
          ]
        },
        {
          "name": "stdout",
          "output_type": "stream",
          "text": [
            "Val:\n",
            "F1: 0.3388, Precision: 0.3022, Recall : 0.4453, Accuracy: 0.4453, Loss: 0.2131.\n",
            "\n",
            "Adjusting learning rate of group 0 to 7.6294e-09.\n",
            "--------------------------------------------------\n",
            "Epoch 18/30\n"
          ]
        },
        {
          "name": "stderr",
          "output_type": "stream",
          "text": [
            "100%|██████████| 125/125 [01:02<00:00,  1.99batch/s]\n",
            "/home/ckm/python3.7/lib/python3.7/site-packages/sklearn/metrics/_classification.py:1248: UndefinedMetricWarning: Precision is ill-defined and being set to 0.0 in labels with no predicted samples. Use `zero_division` parameter to control this behavior.\n",
            "  _warn_prf(average, modifier, msg_start, len(result))\n"
          ]
        },
        {
          "name": "stdout",
          "output_type": "stream",
          "text": [
            "Train:\n",
            "F1: 0.4752, Precision: 0.4200, Recall : 0.5650, Accuracy: 0.5650, Loss: 0.0141.\n",
            "\n"
          ]
        },
        {
          "name": "stderr",
          "output_type": "stream",
          "text": [
            "100%|██████████| 12/12 [00:16<00:00,  1.40s/batch]\n",
            "/home/ckm/python3.7/lib/python3.7/site-packages/sklearn/metrics/_classification.py:1248: UndefinedMetricWarning: Precision is ill-defined and being set to 0.0 in labels with no predicted samples. Use `zero_division` parameter to control this behavior.\n",
            "  _warn_prf(average, modifier, msg_start, len(result))\n"
          ]
        },
        {
          "name": "stdout",
          "output_type": "stream",
          "text": [
            "Val:\n",
            "F1: 0.3446, Precision: 0.3074, Recall : 0.4505, Accuracy: 0.4505, Loss: 0.2759.\n",
            "\n",
            "Adjusting learning rate of group 0 to 3.8147e-09.\n",
            "--------------------------------------------------\n",
            "Epoch 19/30\n"
          ]
        },
        {
          "name": "stderr",
          "output_type": "stream",
          "text": [
            "100%|██████████| 125/125 [01:01<00:00,  2.04batch/s]\n",
            "/home/ckm/python3.7/lib/python3.7/site-packages/sklearn/metrics/_classification.py:1248: UndefinedMetricWarning: Precision is ill-defined and being set to 0.0 in labels with no predicted samples. Use `zero_division` parameter to control this behavior.\n",
            "  _warn_prf(average, modifier, msg_start, len(result))\n"
          ]
        },
        {
          "name": "stdout",
          "output_type": "stream",
          "text": [
            "Train:\n",
            "F1: 0.4734, Precision: 0.4179, Recall : 0.5630, Accuracy: 0.5630, Loss: 0.0169.\n",
            "\n"
          ]
        },
        {
          "name": "stderr",
          "output_type": "stream",
          "text": [
            "100%|██████████| 12/12 [00:18<00:00,  1.57s/batch]\n",
            "/home/ckm/python3.7/lib/python3.7/site-packages/sklearn/metrics/_classification.py:1248: UndefinedMetricWarning: Precision is ill-defined and being set to 0.0 in labels with no predicted samples. Use `zero_division` parameter to control this behavior.\n",
            "  _warn_prf(average, modifier, msg_start, len(result))\n"
          ]
        },
        {
          "name": "stdout",
          "output_type": "stream",
          "text": [
            "Val:\n",
            "F1: 0.3396, Precision: 0.3080, Recall : 0.4453, Accuracy: 0.4453, Loss: 0.2149.\n",
            "\n",
            "Adjusting learning rate of group 0 to 1.9073e-09.\n",
            "--------------------------------------------------\n",
            "Epoch 20/30\n"
          ]
        },
        {
          "name": "stderr",
          "output_type": "stream",
          "text": [
            "100%|██████████| 125/125 [01:00<00:00,  2.06batch/s]\n",
            "/home/ckm/python3.7/lib/python3.7/site-packages/sklearn/metrics/_classification.py:1248: UndefinedMetricWarning: Precision is ill-defined and being set to 0.0 in labels with no predicted samples. Use `zero_division` parameter to control this behavior.\n",
            "  _warn_prf(average, modifier, msg_start, len(result))\n"
          ]
        },
        {
          "name": "stdout",
          "output_type": "stream",
          "text": [
            "Train:\n",
            "F1: 0.4753, Precision: 0.4186, Recall : 0.5660, Accuracy: 0.5660, Loss: 0.0164.\n",
            "\n"
          ]
        },
        {
          "name": "stderr",
          "output_type": "stream",
          "text": [
            "100%|██████████| 12/12 [00:17<00:00,  1.42s/batch]\n",
            "/home/ckm/python3.7/lib/python3.7/site-packages/sklearn/metrics/_classification.py:1248: UndefinedMetricWarning: Precision is ill-defined and being set to 0.0 in labels with no predicted samples. Use `zero_division` parameter to control this behavior.\n",
            "  _warn_prf(average, modifier, msg_start, len(result))\n"
          ]
        },
        {
          "name": "stdout",
          "output_type": "stream",
          "text": [
            "Val:\n",
            "F1: 0.3380, Precision: 0.3074, Recall : 0.4427, Accuracy: 0.4427, Loss: 0.2396.\n",
            "\n",
            "Adjusting learning rate of group 0 to 9.5367e-10.\n",
            "--------------------------------------------------\n",
            "Epoch 21/30\n"
          ]
        },
        {
          "name": "stderr",
          "output_type": "stream",
          "text": [
            "100%|██████████| 125/125 [01:00<00:00,  2.08batch/s]\n",
            "/home/ckm/python3.7/lib/python3.7/site-packages/sklearn/metrics/_classification.py:1248: UndefinedMetricWarning: Precision is ill-defined and being set to 0.0 in labels with no predicted samples. Use `zero_division` parameter to control this behavior.\n",
            "  _warn_prf(average, modifier, msg_start, len(result))\n"
          ]
        },
        {
          "name": "stdout",
          "output_type": "stream",
          "text": [
            "Train:\n",
            "F1: 0.4769, Precision: 0.4203, Recall : 0.5677, Accuracy: 0.5677, Loss: 0.0166.\n",
            "\n"
          ]
        },
        {
          "name": "stderr",
          "output_type": "stream",
          "text": [
            "100%|██████████| 12/12 [00:17<00:00,  1.44s/batch]\n",
            "/home/ckm/python3.7/lib/python3.7/site-packages/sklearn/metrics/_classification.py:1248: UndefinedMetricWarning: Precision is ill-defined and being set to 0.0 in labels with no predicted samples. Use `zero_division` parameter to control this behavior.\n",
            "  _warn_prf(average, modifier, msg_start, len(result))\n"
          ]
        },
        {
          "name": "stdout",
          "output_type": "stream",
          "text": [
            "Val:\n",
            "F1: 0.3410, Precision: 0.3077, Recall : 0.4453, Accuracy: 0.4453, Loss: 0.1937.\n",
            "\n",
            "Adjusting learning rate of group 0 to 4.7684e-10.\n",
            "--------------------------------------------------\n",
            "Epoch 22/30\n"
          ]
        },
        {
          "name": "stderr",
          "output_type": "stream",
          "text": [
            "100%|██████████| 125/125 [00:59<00:00,  2.09batch/s]\n",
            "/home/ckm/python3.7/lib/python3.7/site-packages/sklearn/metrics/_classification.py:1248: UndefinedMetricWarning: Precision is ill-defined and being set to 0.0 in labels with no predicted samples. Use `zero_division` parameter to control this behavior.\n",
            "  _warn_prf(average, modifier, msg_start, len(result))\n"
          ]
        },
        {
          "name": "stdout",
          "output_type": "stream",
          "text": [
            "Train:\n",
            "F1: 0.4791, Precision: 0.4224, Recall : 0.5703, Accuracy: 0.5703, Loss: 0.0194.\n",
            "\n"
          ]
        },
        {
          "name": "stderr",
          "output_type": "stream",
          "text": [
            "100%|██████████| 12/12 [00:17<00:00,  1.49s/batch]\n",
            "/home/ckm/python3.7/lib/python3.7/site-packages/sklearn/metrics/_classification.py:1248: UndefinedMetricWarning: Precision is ill-defined and being set to 0.0 in labels with no predicted samples. Use `zero_division` parameter to control this behavior.\n",
            "  _warn_prf(average, modifier, msg_start, len(result))\n"
          ]
        },
        {
          "name": "stdout",
          "output_type": "stream",
          "text": [
            "Val:\n",
            "F1: 0.3403, Precision: 0.3068, Recall : 0.4453, Accuracy: 0.4453, Loss: 0.2316.\n",
            "\n",
            "Adjusting learning rate of group 0 to 2.3842e-10.\n",
            "--------------------------------------------------\n",
            "Epoch 23/30\n"
          ]
        },
        {
          "name": "stderr",
          "output_type": "stream",
          "text": [
            "100%|██████████| 125/125 [01:00<00:00,  2.08batch/s]\n",
            "/home/ckm/python3.7/lib/python3.7/site-packages/sklearn/metrics/_classification.py:1248: UndefinedMetricWarning: Precision is ill-defined and being set to 0.0 in labels with no predicted samples. Use `zero_division` parameter to control this behavior.\n",
            "  _warn_prf(average, modifier, msg_start, len(result))\n"
          ]
        },
        {
          "name": "stdout",
          "output_type": "stream",
          "text": [
            "Train:\n",
            "F1: 0.4763, Precision: 0.4203, Recall : 0.5665, Accuracy: 0.5665, Loss: 0.0147.\n",
            "\n"
          ]
        },
        {
          "name": "stderr",
          "output_type": "stream",
          "text": [
            "100%|██████████| 12/12 [00:18<00:00,  1.52s/batch]\n",
            "/home/ckm/python3.7/lib/python3.7/site-packages/sklearn/metrics/_classification.py:1248: UndefinedMetricWarning: Precision is ill-defined and being set to 0.0 in labels with no predicted samples. Use `zero_division` parameter to control this behavior.\n",
            "  _warn_prf(average, modifier, msg_start, len(result))\n"
          ]
        },
        {
          "name": "stdout",
          "output_type": "stream",
          "text": [
            "Val:\n",
            "F1: 0.3369, Precision: 0.3000, Recall : 0.4427, Accuracy: 0.4427, Loss: 0.2417.\n",
            "\n",
            "Adjusting learning rate of group 0 to 1.1921e-10.\n",
            "--------------------------------------------------\n",
            "Epoch 24/30\n"
          ]
        },
        {
          "name": "stderr",
          "output_type": "stream",
          "text": [
            "100%|██████████| 125/125 [01:00<00:00,  2.06batch/s]\n"
          ]
        },
        {
          "name": "stdout",
          "output_type": "stream",
          "text": [
            "Train:\n"
          ]
        },
        {
          "name": "stderr",
          "output_type": "stream",
          "text": [
            "/home/ckm/python3.7/lib/python3.7/site-packages/sklearn/metrics/_classification.py:1248: UndefinedMetricWarning: Precision is ill-defined and being set to 0.0 in labels with no predicted samples. Use `zero_division` parameter to control this behavior.\n",
            "  _warn_prf(average, modifier, msg_start, len(result))\n"
          ]
        },
        {
          "name": "stdout",
          "output_type": "stream",
          "text": [
            "F1: 0.4791, Precision: 0.4225, Recall : 0.5700, Accuracy: 0.5700, Loss: 0.0221.\n",
            "\n"
          ]
        },
        {
          "name": "stderr",
          "output_type": "stream",
          "text": [
            "100%|██████████| 12/12 [00:19<00:00,  1.64s/batch]\n",
            "/home/ckm/python3.7/lib/python3.7/site-packages/sklearn/metrics/_classification.py:1248: UndefinedMetricWarning: Precision is ill-defined and being set to 0.0 in labels with no predicted samples. Use `zero_division` parameter to control this behavior.\n",
            "  _warn_prf(average, modifier, msg_start, len(result))\n"
          ]
        },
        {
          "name": "stdout",
          "output_type": "stream",
          "text": [
            "Val:\n",
            "F1: 0.3495, Precision: 0.3171, Recall : 0.4557, Accuracy: 0.4557, Loss: 0.2350.\n",
            "\n",
            "Adjusting learning rate of group 0 to 5.9605e-11.\n",
            "--------------------------------------------------\n",
            "Epoch 25/30\n"
          ]
        },
        {
          "name": "stderr",
          "output_type": "stream",
          "text": [
            "100%|██████████| 125/125 [00:59<00:00,  2.08batch/s]\n",
            "/home/ckm/python3.7/lib/python3.7/site-packages/sklearn/metrics/_classification.py:1248: UndefinedMetricWarning: Precision is ill-defined and being set to 0.0 in labels with no predicted samples. Use `zero_division` parameter to control this behavior.\n",
            "  _warn_prf(average, modifier, msg_start, len(result))\n"
          ]
        },
        {
          "name": "stdout",
          "output_type": "stream",
          "text": [
            "Train:\n",
            "F1: 0.4775, Precision: 0.4207, Recall : 0.5683, Accuracy: 0.5683, Loss: 0.0176.\n",
            "\n"
          ]
        },
        {
          "name": "stderr",
          "output_type": "stream",
          "text": [
            "100%|██████████| 12/12 [00:18<00:00,  1.53s/batch]\n",
            "/home/ckm/python3.7/lib/python3.7/site-packages/sklearn/metrics/_classification.py:1248: UndefinedMetricWarning: Precision is ill-defined and being set to 0.0 in labels with no predicted samples. Use `zero_division` parameter to control this behavior.\n",
            "  _warn_prf(average, modifier, msg_start, len(result))\n"
          ]
        },
        {
          "name": "stdout",
          "output_type": "stream",
          "text": [
            "Val:\n",
            "F1: 0.3532, Precision: 0.3188, Recall : 0.4583, Accuracy: 0.4583, Loss: 0.2111.\n",
            "\n",
            "Adjusting learning rate of group 0 to 2.9802e-11.\n",
            "--------------------------------------------------\n",
            "Epoch 26/30\n"
          ]
        },
        {
          "name": "stderr",
          "output_type": "stream",
          "text": [
            "100%|██████████| 125/125 [01:00<00:00,  2.08batch/s]\n",
            "/home/ckm/python3.7/lib/python3.7/site-packages/sklearn/metrics/_classification.py:1248: UndefinedMetricWarning: Precision is ill-defined and being set to 0.0 in labels with no predicted samples. Use `zero_division` parameter to control this behavior.\n",
            "  _warn_prf(average, modifier, msg_start, len(result))\n"
          ]
        },
        {
          "name": "stdout",
          "output_type": "stream",
          "text": [
            "Train:\n",
            "F1: 0.4768, Precision: 0.4209, Recall : 0.5670, Accuracy: 0.5670, Loss: 0.0206.\n",
            "\n"
          ]
        },
        {
          "name": "stderr",
          "output_type": "stream",
          "text": [
            "100%|██████████| 12/12 [00:17<00:00,  1.43s/batch]\n",
            "/home/ckm/python3.7/lib/python3.7/site-packages/sklearn/metrics/_classification.py:1248: UndefinedMetricWarning: Precision is ill-defined and being set to 0.0 in labels with no predicted samples. Use `zero_division` parameter to control this behavior.\n",
            "  _warn_prf(average, modifier, msg_start, len(result))\n"
          ]
        },
        {
          "name": "stdout",
          "output_type": "stream",
          "text": [
            "Val:\n",
            "F1: 0.3486, Precision: 0.3119, Recall : 0.4505, Accuracy: 0.4505, Loss: 0.2449.\n",
            "\n",
            "Adjusting learning rate of group 0 to 1.4901e-11.\n",
            "--------------------------------------------------\n",
            "Epoch 27/30\n"
          ]
        },
        {
          "name": "stderr",
          "output_type": "stream",
          "text": [
            "100%|██████████| 125/125 [00:59<00:00,  2.09batch/s]\n",
            "/home/ckm/python3.7/lib/python3.7/site-packages/sklearn/metrics/_classification.py:1248: UndefinedMetricWarning: Precision is ill-defined and being set to 0.0 in labels with no predicted samples. Use `zero_division` parameter to control this behavior.\n",
            "  _warn_prf(average, modifier, msg_start, len(result))\n"
          ]
        },
        {
          "name": "stdout",
          "output_type": "stream",
          "text": [
            "Train:\n",
            "F1: 0.4738, Precision: 0.4169, Recall : 0.5643, Accuracy: 0.5643, Loss: 0.0161.\n",
            "\n"
          ]
        },
        {
          "name": "stderr",
          "output_type": "stream",
          "text": [
            "100%|██████████| 12/12 [00:17<00:00,  1.45s/batch]\n",
            "/home/ckm/python3.7/lib/python3.7/site-packages/sklearn/metrics/_classification.py:1248: UndefinedMetricWarning: Precision is ill-defined and being set to 0.0 in labels with no predicted samples. Use `zero_division` parameter to control this behavior.\n",
            "  _warn_prf(average, modifier, msg_start, len(result))\n"
          ]
        },
        {
          "name": "stdout",
          "output_type": "stream",
          "text": [
            "Val:\n",
            "F1: 0.3518, Precision: 0.3191, Recall : 0.4531, Accuracy: 0.4531, Loss: 0.2454.\n",
            "\n",
            "Adjusting learning rate of group 0 to 7.4506e-12.\n",
            "--------------------------------------------------\n",
            "Epoch 28/30\n"
          ]
        },
        {
          "name": "stderr",
          "output_type": "stream",
          "text": [
            "100%|██████████| 125/125 [00:59<00:00,  2.08batch/s]\n",
            "/home/ckm/python3.7/lib/python3.7/site-packages/sklearn/metrics/_classification.py:1248: UndefinedMetricWarning: Precision is ill-defined and being set to 0.0 in labels with no predicted samples. Use `zero_division` parameter to control this behavior.\n",
            "  _warn_prf(average, modifier, msg_start, len(result))\n"
          ]
        },
        {
          "name": "stdout",
          "output_type": "stream",
          "text": [
            "Train:\n",
            "F1: 0.4787, Precision: 0.4226, Recall : 0.5693, Accuracy: 0.5693, Loss: 0.0154.\n",
            "\n"
          ]
        },
        {
          "name": "stderr",
          "output_type": "stream",
          "text": [
            "100%|██████████| 12/12 [00:17<00:00,  1.50s/batch]\n",
            "/home/ckm/python3.7/lib/python3.7/site-packages/sklearn/metrics/_classification.py:1248: UndefinedMetricWarning: Precision is ill-defined and being set to 0.0 in labels with no predicted samples. Use `zero_division` parameter to control this behavior.\n",
            "  _warn_prf(average, modifier, msg_start, len(result))\n"
          ]
        },
        {
          "name": "stdout",
          "output_type": "stream",
          "text": [
            "Val:\n",
            "F1: 0.3321, Precision: 0.2967, Recall : 0.4375, Accuracy: 0.4375, Loss: 0.2166.\n",
            "\n",
            "Adjusting learning rate of group 0 to 3.7253e-12.\n",
            "--------------------------------------------------\n",
            "Epoch 29/30\n"
          ]
        },
        {
          "name": "stderr",
          "output_type": "stream",
          "text": [
            "100%|██████████| 125/125 [01:00<00:00,  2.07batch/s]\n",
            "/home/ckm/python3.7/lib/python3.7/site-packages/sklearn/metrics/_classification.py:1248: UndefinedMetricWarning: Precision is ill-defined and being set to 0.0 in labels with no predicted samples. Use `zero_division` parameter to control this behavior.\n",
            "  _warn_prf(average, modifier, msg_start, len(result))\n"
          ]
        },
        {
          "name": "stdout",
          "output_type": "stream",
          "text": [
            "Train:\n",
            "F1: 0.4760, Precision: 0.4187, Recall : 0.5670, Accuracy: 0.5670, Loss: 0.0147.\n",
            "\n"
          ]
        },
        {
          "name": "stderr",
          "output_type": "stream",
          "text": [
            "100%|██████████| 12/12 [00:20<00:00,  1.73s/batch]\n",
            "/home/ckm/python3.7/lib/python3.7/site-packages/sklearn/metrics/_classification.py:1248: UndefinedMetricWarning: Precision is ill-defined and being set to 0.0 in labels with no predicted samples. Use `zero_division` parameter to control this behavior.\n",
            "  _warn_prf(average, modifier, msg_start, len(result))\n"
          ]
        },
        {
          "name": "stdout",
          "output_type": "stream",
          "text": [
            "Val:\n",
            "F1: 0.3504, Precision: 0.3148, Recall : 0.4583, Accuracy: 0.4583, Loss: 0.2065.\n",
            "\n",
            "Adjusting learning rate of group 0 to 1.8626e-12.\n",
            "--------------------------------------------------\n",
            "Epoch 30/30\n"
          ]
        },
        {
          "name": "stderr",
          "output_type": "stream",
          "text": [
            "100%|██████████| 125/125 [00:59<00:00,  2.09batch/s]\n",
            "/home/ckm/python3.7/lib/python3.7/site-packages/sklearn/metrics/_classification.py:1248: UndefinedMetricWarning: Precision is ill-defined and being set to 0.0 in labels with no predicted samples. Use `zero_division` parameter to control this behavior.\n",
            "  _warn_prf(average, modifier, msg_start, len(result))\n"
          ]
        },
        {
          "name": "stdout",
          "output_type": "stream",
          "text": [
            "Train:\n",
            "F1: 0.4770, Precision: 0.4201, Recall : 0.5680, Accuracy: 0.5680, Loss: 0.0157.\n",
            "\n"
          ]
        },
        {
          "name": "stderr",
          "output_type": "stream",
          "text": [
            "100%|██████████| 12/12 [00:17<00:00,  1.44s/batch]"
          ]
        },
        {
          "name": "stdout",
          "output_type": "stream",
          "text": [
            "Val:\n",
            "F1: 0.3323, Precision: 0.2950, Recall : 0.4349, Accuracy: 0.4349, Loss: 0.2340.\n",
            "\n",
            "Adjusting learning rate of group 0 to 9.3132e-13.\n"
          ]
        },
        {
          "name": "stderr",
          "output_type": "stream",
          "text": [
            "\n",
            "/home/ckm/python3.7/lib/python3.7/site-packages/sklearn/metrics/_classification.py:1248: UndefinedMetricWarning: Precision is ill-defined and being set to 0.0 in labels with no predicted samples. Use `zero_division` parameter to control this behavior.\n",
            "  _warn_prf(average, modifier, msg_start, len(result))\n"
          ]
        }
      ],
      "source": [
        "best_valid_f1 = 0.0000\n",
        "\n",
        "for epoch in range(0, EPOCHS):\n",
        "  \n",
        "\n",
        "    print('-'*50)\n",
        "    print('Epoch {}/{}'.format(epoch+1, EPOCHS))\n",
        "\n",
        "    for phase in ['Train', 'Val']:\n",
        "\n",
        "        loss = 0.0   #epoch loss\n",
        "        accuracy = 0.0   #epoch accuracy\n",
        "\n",
        "        y_true = []\n",
        "        y_pred = []\n",
        "\n",
        "        if phase == 'Train':\n",
        "            model.train()\n",
        "        else:\n",
        "            model.eval()\n",
        "        \n",
        "        with tqdm(dataloaders[phase], unit=\"batch\") as tepoch:\n",
        "\n",
        "          for batch in tepoch:\n",
        "            labels = batch[\"label\"].to(device)\n",
        "            text = batch[\"token\"].to(device)\n",
        "            \n",
        "\n",
        "            output = model(text)\n",
        "\n",
        "            loss = criterion(output, labels)\n",
        "\n",
        "            if phase == 'Train':\n",
        "\n",
        "                #zero gradients\n",
        "                optimizer.zero_grad() \n",
        "\n",
        "                # Backward pass  (calculates the gradients)\n",
        "                loss.backward()   \n",
        "\n",
        "                # gradient clipping\n",
        "                nn.utils.clip_grad_norm_(model.parameters(), CLIP)    \n",
        "\n",
        "                optimizer.step()             # Updates the weights    \n",
        "\n",
        "            sleep(0.1)\n",
        "            _, preds = output.data.max(1)\n",
        "            y_pred.extend(preds.tolist())\n",
        "            y_true.extend(labels.tolist())\n",
        "            \n",
        "            batch_acc = get_accuracy(preds.tolist(), labels.tolist())\n",
        "            \n",
        "            \n",
        "            loss += loss.item()\n",
        "            accuracy+= batch_acc\n",
        "\n",
        "              \n",
        "          epoch_loss = loss / (len(dataloaders[phase]))\n",
        "          epoch_acc = accuracy / (len(dataloaders[phase]))\n",
        "\n",
        "          print(phase + \":\")\n",
        "          \n",
        "          \n",
        "          #print(confusion_matrix(y_true, y_pred))\n",
        "          pre = precision_score(y_true, y_pred, average='weighted')\n",
        "          recall = recall_score(y_true, y_pred, average='weighted')\n",
        "          f1 = f1_score(y_true, y_pred, average='weighted')\n",
        "          \n",
        "\n",
        "          print(\"F1: {:.4f}, Precision: {:.4f}, Recall : {:.4f}, Accuracy: {:.4f}, Loss: {:.4f}.\".format(f1, pre, recall, epoch_acc, epoch_loss))\n",
        "          # save best model\n",
        "          print()\n",
        "          \n",
        "            \n",
        "          if phase == 'Val':\n",
        "                \n",
        "                if f1 > best_valid_f1:\n",
        "                    best_valid_f1 = f1\n",
        "                    \n",
        "                    torch.save(model.state_dict(), PATH)\n",
        "                    print('Model Saved!')\n",
        "                    \n",
        "                scheduler.step()\n",
        "                    \n"
      ]
    },
    {
      "cell_type": "code",
      "execution_count": null,
      "metadata": {
        "id": "7yJchRvUz2nf"
      },
      "outputs": [],
      "source": []
    },
    {
      "cell_type": "markdown",
      "metadata": {
        "id": "Jsq5MiaHII3r"
      },
      "source": [
        "### Testing"
      ]
    },
    {
      "cell_type": "code",
      "execution_count": 75,
      "metadata": {
        "id": "0L66ZUsoII3r"
      },
      "outputs": [],
      "source": [
        "model = SelfNet( vocab_size, embed_dim, hidden_size, num_layer, seq_len, num_class)"
      ]
    },
    {
      "cell_type": "code",
      "execution_count": 76,
      "metadata": {
        "id": "EceKQVWTII3r"
      },
      "outputs": [
        {
          "data": {
            "text/plain": [
              "SelfNet(\n",
              "  (embedding): Embedding(13511, 100, padding_idx=13510)\n",
              "  (selfnet_layer): SelfMatchingLayer()\n",
              "  (lstm): LSTM(100, 512, num_layers=3, batch_first=True, dropout=0.3, bidirectional=True)\n",
              "  (fc1): Linear(in_features=1124, out_features=128, bias=True)\n",
              "  (fc2): Linear(in_features=128, out_features=7, bias=True)\n",
              "  (dropout): Dropout(p=0.3, inplace=False)\n",
              ")"
            ]
          },
          "execution_count": 76,
          "metadata": {},
          "output_type": "execute_result"
        }
      ],
      "source": [
        "model.load_state_dict(torch.load(PATH))\n",
        "\n",
        "model.to(device)\n"
      ]
    },
    {
      "cell_type": "code",
      "execution_count": 77,
      "metadata": {
        "id": "A1DB4Su5II3r"
      },
      "outputs": [
        {
          "name": "stderr",
          "output_type": "stream",
          "text": [
            "100%|██████████| 14/14 [00:17<00:00,  1.27s/batch]"
          ]
        },
        {
          "name": "stdout",
          "output_type": "stream",
          "text": [
            "\n",
            "Inference:\n",
            "\n",
            "[[145   0  58   0   0]\n",
            " [ 13   0  50   0   0]\n",
            " [ 31   0  86   0   0]\n",
            " [ 15   0   9   0   0]\n",
            " [ 15   0  26   0   0]]\n",
            "\n",
            "F1: 0.5156, Precision: 0.5156, Recall : 0.5156, Accuracy: 0.6016, Loss: 0.2322.\n"
          ]
        },
        {
          "name": "stderr",
          "output_type": "stream",
          "text": [
            "\n"
          ]
        }
      ],
      "source": [
        "loss = 0.0   #epoch loss\n",
        "accuracy = 0.0   #epoch accuracy\n",
        "\n",
        "y_true = []\n",
        "y_pred = []\n",
        "\n",
        "# set the model to evaluation mode            \n",
        "model.eval()\n",
        "        \n",
        "with tqdm(test_loader, unit=\"batch\") as tepoch:\n",
        "  for batch in tepoch:\n",
        "    labels = batch[\"label\"].to(device)\n",
        "    text = batch[\"token\"].to(device)\n",
        "    \n",
        "    with torch.no_grad():\n",
        "        output = model(text)\n",
        "    \n",
        "    \n",
        "    _, preds = output.data.max(1)\n",
        "    y_pred.extend(preds.tolist())\n",
        "    y_true.extend(labels.tolist())\n",
        "            \n",
        "    batch_acc = get_accuracy(preds.tolist(), labels.tolist())\n",
        "\n",
        "    loss = criterion(output, labels)\n",
        "            \n",
        "            \n",
        "    loss += loss.item()\n",
        "    accuracy+= batch_acc\n",
        "\n",
        "    sleep(0.1)\n",
        "\n",
        "              \n",
        "epoch_loss = loss / (len(val_loader))\n",
        "epoch_acc = accuracy / (len(val_loader))\n",
        "print('')\n",
        "print(\"Inference:\")\n",
        "print(\"\")\n",
        "print(confusion_matrix(y_true, y_pred))\n",
        "pre = precision_score(y_true, y_pred, average='micro')\n",
        "recall = recall_score(y_true, y_pred, average='micro')\n",
        "f1 = f1_score(y_true, y_pred, average='micro')\n",
        "print(\"\")\n",
        "\n",
        "print(\"F1: {:.4f}, Precision: {:.4f}, Recall : {:.4f}, Accuracy: {:.4f}, Loss: {:.4f}.\".format(f1, pre, recall, epoch_acc, epoch_loss))"
      ]
    },
    {
      "cell_type": "code",
      "execution_count": 78,
      "metadata": {
        "id": "X99rC-LvII3s"
      },
      "outputs": [
        {
          "data": {
            "text/plain": [
              "SelfNet(\n",
              "  (embedding): Embedding(13511, 100, padding_idx=13510)\n",
              "  (selfnet_layer): SelfMatchingLayer()\n",
              "  (lstm): LSTM(100, 512, num_layers=3, batch_first=True, dropout=0.3, bidirectional=True)\n",
              "  (fc1): Linear(in_features=1124, out_features=128, bias=True)\n",
              "  (fc2): Linear(in_features=128, out_features=7, bias=True)\n",
              "  (dropout): Dropout(p=0.3, inplace=False)\n",
              ")"
            ]
          },
          "execution_count": 78,
          "metadata": {},
          "output_type": "execute_result"
        }
      ],
      "source": [
        "model.load_state_dict(torch.load(PATH))\n",
        "\n",
        "model.to(device)\n"
      ]
    },
    {
      "cell_type": "code",
      "execution_count": 79,
      "metadata": {
        "id": "EQwRQc_NII3s"
      },
      "outputs": [
        {
          "name": "stderr",
          "output_type": "stream",
          "text": [
            "100%|██████████| 14/14 [00:19<00:00,  1.37s/batch]"
          ]
        },
        {
          "name": "stdout",
          "output_type": "stream",
          "text": [
            "\n",
            "Inference:\n",
            "\n",
            "[[143   0  59   0   0]\n",
            " [ 15   0  48   0   0]\n",
            " [ 23   0  94   0   0]\n",
            " [ 10   0  15   0   0]\n",
            " [ 17   0  24   0   0]]\n",
            "\n",
            "F1: 0.4521, Precision: 0.4123, Recall : 0.5290, Accuracy: 0.6172, Loss: 0.2004.\n"
          ]
        },
        {
          "name": "stderr",
          "output_type": "stream",
          "text": [
            "\n",
            "/home/ckm/python3.7/lib/python3.7/site-packages/sklearn/metrics/_classification.py:1248: UndefinedMetricWarning: Precision is ill-defined and being set to 0.0 in labels with no predicted samples. Use `zero_division` parameter to control this behavior.\n",
            "  _warn_prf(average, modifier, msg_start, len(result))\n"
          ]
        }
      ],
      "source": [
        "loss = 0.0   #epoch loss\n",
        "accuracy = 0.0   #epoch accuracy\n",
        "\n",
        "y_true = []\n",
        "y_pred = []\n",
        "\n",
        "# set the model to evaluation mode            \n",
        "model.eval()\n",
        "        \n",
        "with tqdm(test_loader, unit=\"batch\") as tepoch:\n",
        "  for batch in tepoch:\n",
        "    labels = batch[\"label\"].to(device)\n",
        "    text = batch[\"token\"].to(device)\n",
        "    \n",
        "    with torch.no_grad():\n",
        "        output = model(text)\n",
        "    \n",
        "    \n",
        "    _, preds = output.data.max(1)\n",
        "    y_pred.extend(preds.tolist())\n",
        "    y_true.extend(labels.tolist())\n",
        "            \n",
        "    batch_acc = get_accuracy(preds.tolist(), labels.tolist())\n",
        "\n",
        "    loss = criterion(output, labels)\n",
        "            \n",
        "            \n",
        "    loss += loss.item()\n",
        "    accuracy+= batch_acc\n",
        "\n",
        "    sleep(0.1)\n",
        "\n",
        "              \n",
        "epoch_loss = loss / (len(val_loader))\n",
        "epoch_acc = accuracy / (len(val_loader))\n",
        "print('')\n",
        "print(\"Inference:\")\n",
        "print(\"\")\n",
        "print(confusion_matrix(y_true, y_pred))\n",
        "pre = precision_score(y_true, y_pred, average='weighted')\n",
        "recall = recall_score(y_true, y_pred, average='weighted')\n",
        "f1 = f1_score(y_true, y_pred, average='weighted')\n",
        "print(\"\")\n",
        "\n",
        "print(\"F1: {:.4f}, Precision: {:.4f}, Recall : {:.4f}, Accuracy: {:.4f}, Loss: {:.4f}.\".format(f1, pre, recall, epoch_acc, epoch_loss))"
      ]
    },
    {
      "cell_type": "code",
      "execution_count": 80,
      "metadata": {
        "id": "wQs04_VAII3t"
      },
      "outputs": [
        {
          "name": "stderr",
          "output_type": "stream",
          "text": [
            "100%|██████████| 14/14 [00:17<00:00,  1.27s/batch]"
          ]
        },
        {
          "name": "stdout",
          "output_type": "stream",
          "text": [
            "\n",
            "Inference:\n",
            "\n",
            "[[141   0  61   0   0]\n",
            " [ 12   0  51   0   0]\n",
            " [ 29   0  88   0   0]\n",
            " [  9   0  16   0   0]\n",
            " [ 14   0  27   0   0]]\n",
            "\n",
            "F1: 0.5112, Precision: 0.5112, Recall : 0.5112, Accuracy: 0.5964, Loss: 0.2325.\n"
          ]
        },
        {
          "name": "stderr",
          "output_type": "stream",
          "text": [
            "\n"
          ]
        }
      ],
      "source": [
        "loss = 0.0   #epoch loss\n",
        "accuracy = 0.0   #epoch accuracy\n",
        "\n",
        "y_true = []\n",
        "y_pred = []\n",
        "\n",
        "# set the model to evaluation mode            \n",
        "model.eval()\n",
        "        \n",
        "with tqdm(test_loader, unit=\"batch\") as tepoch:\n",
        "  for batch in tepoch:\n",
        "    labels = batch[\"label\"].to(device)\n",
        "    text = batch[\"token\"].to(device)\n",
        "    \n",
        "    with torch.no_grad():\n",
        "        output = model(text)\n",
        "    \n",
        "    \n",
        "    _, preds = output.data.max(1)\n",
        "    y_pred.extend(preds.tolist())\n",
        "    y_true.extend(labels.tolist())\n",
        "            \n",
        "    batch_acc = get_accuracy(preds.tolist(), labels.tolist())\n",
        "\n",
        "    loss = criterion(output, labels)\n",
        "            \n",
        "            \n",
        "    loss += loss.item()\n",
        "    accuracy+= batch_acc\n",
        "\n",
        "    sleep(0.1)\n",
        "\n",
        "              \n",
        "epoch_loss = loss / (len(val_loader))\n",
        "epoch_acc = accuracy / (len(val_loader))\n",
        "print('')\n",
        "print(\"Inference:\")\n",
        "print(\"\")\n",
        "print(confusion_matrix(y_true, y_pred))\n",
        "pre = precision_score(y_true, y_pred, average='micro')\n",
        "recall = recall_score(y_true, y_pred, average='micro')\n",
        "f1 = f1_score(y_true, y_pred, average='micro')\n",
        "print(\"\")\n",
        "\n",
        "print(\"F1: {:.4f}, Precision: {:.4f}, Recall : {:.4f}, Accuracy: {:.4f}, Loss: {:.4f}.\".format(f1, pre, recall, epoch_acc, epoch_loss))"
      ]
    },
    {
      "cell_type": "code",
      "execution_count": null,
      "metadata": {
        "id": "V6Kth3CNII3t"
      },
      "outputs": [],
      "source": []
    },
    {
      "cell_type": "markdown",
      "metadata": {
        "id": "UMwq-cvgKn1w"
      },
      "source": []
    }
  ],
  "metadata": {
    "accelerator": "GPU",
    "colab": {
      "collapsed_sections": [],
      "machine_shape": "hm",
      "name": "SelfNet_mean_+_gelu_Youtube_Comments.ipynb",
      "provenance": []
    },
    "interpreter": {
      "hash": "80812c57c454a5cb47da895f264233db0a5d87621772a622276e795be9a4c20f"
    },
    "kernelspec": {
      "display_name": "Python 3.7.12 64-bit ('python3.7': venv)",
      "name": "python3"
    },
    "language_info": {
      "codemirror_mode": {
        "name": "ipython",
        "version": 3
      },
      "file_extension": ".py",
      "mimetype": "text/x-python",
      "name": "python",
      "nbconvert_exporter": "python",
      "pygments_lexer": "ipython3",
      "version": "3.7.12"
    }
  },
  "nbformat": 4,
  "nbformat_minor": 2
}
